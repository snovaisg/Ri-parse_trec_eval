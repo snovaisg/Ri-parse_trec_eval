{
 "cells": [
  {
   "cell_type": "markdown",
   "metadata": {},
   "source": [
    "### Imports"
   ]
  },
  {
   "cell_type": "code",
   "execution_count": 1,
   "metadata": {},
   "outputs": [],
   "source": [
    "import os\n",
    "import pandas as pd"
   ]
  },
  {
   "cell_type": "markdown",
   "metadata": {},
   "source": [
    "### Global Variabels"
   ]
  },
  {
   "cell_type": "code",
   "execution_count": 2,
   "metadata": {},
   "outputs": [],
   "source": [
    "path = 'Model-outputs'\n",
    "file_data=\"stats.csv\"\n",
    "file_data_o=\"stats_o.csv\""
   ]
  },
  {
   "cell_type": "markdown",
   "metadata": {},
   "source": [
    "### Function that gets the files in a path"
   ]
  },
  {
   "cell_type": "code",
   "execution_count": 3,
   "metadata": {},
   "outputs": [],
   "source": [
    "def get_all_trec_outputs(path):\n",
    "    return [file for file in os.listdir(path) if file[0] != '.']"
   ]
  },
  {
   "cell_type": "markdown",
   "metadata": {},
   "source": [
    "**This is just some testing you can ignore it**"
   ]
  },
  {
   "cell_type": "code",
   "execution_count": 4,
   "metadata": {},
   "outputs": [],
   "source": [
    "path_files = get_all_trec_outputs(path)"
   ]
  },
  {
   "cell_type": "code",
   "execution_count": 5,
   "metadata": {},
   "outputs": [
    {
     "data": {
      "text/plain": [
       "['StandardAnalyzer@BM25(k1=1.2,b=0.75)',\n",
       " 'Analyser@ClassicSimilarity',\n",
       " 'StandardAnalyzer@LM Dirichlet(2000.000000)',\n",
       " 'StandardAnalyzer@ClassicSimilarity',\n",
       " 'Lab2_Analyser@LM Dirichlet(2000.000000)',\n",
       " 'Lab2_Analyser@BM25(k1=1.2,b=0.75)']"
      ]
     },
     "execution_count": 5,
     "metadata": {},
     "output_type": "execute_result"
    }
   ],
   "source": [
    "path_files"
   ]
  },
  {
   "cell_type": "markdown",
   "metadata": {},
   "source": [
    "### Function that does it all"
   ]
  },
  {
   "cell_type": "markdown",
   "metadata": {},
   "source": [
    "**Given the absolute path, it return 6 DataFrames:**\n",
    "\n",
    "    1. Data from stats.csv for all the model (Columns: Model, P10, MAP) -> data\n",
    "    2. Data from stats_o.csv for all the model (Columns: Model with Ouliers, P10, MAP) -> data_outliers\n",
    "    3. data sorted by P10\n",
    "    4. data_outliers by P10\n",
    "    5. data sorted by MAP\n",
    "    6. data_outliers by MAP"
   ]
  },
  {
   "cell_type": "code",
   "execution_count": 18,
   "metadata": {},
   "outputs": [],
   "source": [
    "def make_data(path):   \n",
    "    results_path = \"Results\"\n",
    "    \n",
    "    data=pd.DataFrame(data={'Model': [], \"P10\": [], \"MAP\": []})\n",
    "    data_outliers=pd.DataFrame(data={'Model with Ouliers': [], \"P10\": [], \"MAP\": []})\n",
    "    for file in path_files:\n",
    "        path_to_csv=os.path.join(path,file)\n",
    "        data_aux = pd.read_csv(os.path.join(path_to_csv,file_data))\n",
    "        data = data.append({'Model': file, 'P10': data_aux[\"P_10\"].values[0], 'MAP': data_aux[\"map\"].values[0]}, ignore_index=True)\n",
    "        data_aux = pd.read_csv(os.path.join(path_to_csv,file_data_o))\n",
    "        data_outliers = data_outliers.append({'Model with Ouliers': file, 'P10': data_aux[\"P_10\"].values[0], 'MAP': data_aux[\"map\"].values[0]}, ignore_index=True)\n",
    "        \n",
    "        if not os.path.exists(results_path):\n",
    "            os.makedirs(results_path)\n",
    "        data.to_csv(os.path.join(results_path,\"data.csv\"))\n",
    "        data_outliers.to_csv(os.path.join(results_path,\"data_o.csv\"))\n",
    "        data.sort_values(by=[\"P10\"],ascending=False).to_csv(os.path.join(results_path,\"data_sorted_P10.csv\"))\n",
    "        data_outliers.sort_values(by=[\"P10\"], ascending=False).to_csv(os.path.join(results_path,\"data_o_sorted_P10.csv\"))\n",
    "        data.sort_values(by=[\"MAP\"], ascending=False).to_csv(os.path.join(results_path,\"data_sorted_Map.csv\"))\n",
    "        data_outliers.sort_values(by=[\"MAP\"], ascending=False).to_csv(os.path.join(results_path,\"data_o_sorted_Map.csv\"))\n",
    "                                  \n",
    "    return data, data_outliers, data.sort_values(by=[\"P10\"], ascending=False), data_outliers.sort_values(by=[\"P10\"], ascending=False), data.sort_values(by=[\"MAP\"], ascending=False), data_outliers.sort_values(by=[\"MAP\"], ascending=False)"
   ]
  },
  {
   "cell_type": "code",
   "execution_count": 19,
   "metadata": {},
   "outputs": [],
   "source": [
    "data, data_o, data_sorted_P10, data_o_sorted_P10, data_sorted_Map, data_o_sorted_Map=make_data(path)"
   ]
  },
  {
   "cell_type": "code",
   "execution_count": 8,
   "metadata": {},
   "outputs": [
    {
     "data": {
      "text/html": [
       "<div>\n",
       "<style scoped>\n",
       "    .dataframe tbody tr th:only-of-type {\n",
       "        vertical-align: middle;\n",
       "    }\n",
       "\n",
       "    .dataframe tbody tr th {\n",
       "        vertical-align: top;\n",
       "    }\n",
       "\n",
       "    .dataframe thead th {\n",
       "        text-align: right;\n",
       "    }\n",
       "</style>\n",
       "<table border=\"1\" class=\"dataframe\">\n",
       "  <thead>\n",
       "    <tr style=\"text-align: right;\">\n",
       "      <th></th>\n",
       "      <th>MAP</th>\n",
       "      <th>Model</th>\n",
       "      <th>P10</th>\n",
       "    </tr>\n",
       "  </thead>\n",
       "  <tbody>\n",
       "    <tr>\n",
       "      <th>0</th>\n",
       "      <td>0.0725</td>\n",
       "      <td>StandardAnalyzer@BM25(k1=1.2,b=0.75)</td>\n",
       "      <td>0.1065</td>\n",
       "    </tr>\n",
       "    <tr>\n",
       "      <th>1</th>\n",
       "      <td>0.0821</td>\n",
       "      <td>Analyser@ClassicSimilarity</td>\n",
       "      <td>0.1226</td>\n",
       "    </tr>\n",
       "    <tr>\n",
       "      <th>2</th>\n",
       "      <td>0.0473</td>\n",
       "      <td>StandardAnalyzer@LM Dirichlet(2000.000000)</td>\n",
       "      <td>0.0742</td>\n",
       "    </tr>\n",
       "    <tr>\n",
       "      <th>3</th>\n",
       "      <td>0.0612</td>\n",
       "      <td>StandardAnalyzer@ClassicSimilarity</td>\n",
       "      <td>0.1032</td>\n",
       "    </tr>\n",
       "    <tr>\n",
       "      <th>4</th>\n",
       "      <td>0.0454</td>\n",
       "      <td>Lab2_Analyser@LM Dirichlet(2000.000000)</td>\n",
       "      <td>0.0581</td>\n",
       "    </tr>\n",
       "    <tr>\n",
       "      <th>5</th>\n",
       "      <td>0.0873</td>\n",
       "      <td>Lab2_Analyser@BM25(k1=1.2,b=0.75)</td>\n",
       "      <td>0.1161</td>\n",
       "    </tr>\n",
       "  </tbody>\n",
       "</table>\n",
       "</div>"
      ],
      "text/plain": [
       "      MAP                                       Model     P10\n",
       "0  0.0725        StandardAnalyzer@BM25(k1=1.2,b=0.75)  0.1065\n",
       "1  0.0821                  Analyser@ClassicSimilarity  0.1226\n",
       "2  0.0473  StandardAnalyzer@LM Dirichlet(2000.000000)  0.0742\n",
       "3  0.0612          StandardAnalyzer@ClassicSimilarity  0.1032\n",
       "4  0.0454     Lab2_Analyser@LM Dirichlet(2000.000000)  0.0581\n",
       "5  0.0873           Lab2_Analyser@BM25(k1=1.2,b=0.75)  0.1161"
      ]
     },
     "execution_count": 8,
     "metadata": {},
     "output_type": "execute_result"
    }
   ],
   "source": [
    "data"
   ]
  },
  {
   "cell_type": "code",
   "execution_count": 9,
   "metadata": {},
   "outputs": [
    {
     "data": {
      "text/html": [
       "<div>\n",
       "<style scoped>\n",
       "    .dataframe tbody tr th:only-of-type {\n",
       "        vertical-align: middle;\n",
       "    }\n",
       "\n",
       "    .dataframe tbody tr th {\n",
       "        vertical-align: top;\n",
       "    }\n",
       "\n",
       "    .dataframe thead th {\n",
       "        text-align: right;\n",
       "    }\n",
       "</style>\n",
       "<table border=\"1\" class=\"dataframe\">\n",
       "  <thead>\n",
       "    <tr style=\"text-align: right;\">\n",
       "      <th></th>\n",
       "      <th>MAP</th>\n",
       "      <th>Model with Ouliers</th>\n",
       "      <th>P10</th>\n",
       "    </tr>\n",
       "  </thead>\n",
       "  <tbody>\n",
       "    <tr>\n",
       "      <th>0</th>\n",
       "      <td>0.105000</td>\n",
       "      <td>StandardAnalyzer@BM25(k1=1.2,b=0.75)</td>\n",
       "      <td>0.152381</td>\n",
       "    </tr>\n",
       "    <tr>\n",
       "      <th>1</th>\n",
       "      <td>0.109535</td>\n",
       "      <td>Analyser@ClassicSimilarity</td>\n",
       "      <td>0.165217</td>\n",
       "    </tr>\n",
       "    <tr>\n",
       "      <th>2</th>\n",
       "      <td>0.071935</td>\n",
       "      <td>StandardAnalyzer@LM Dirichlet(2000.000000)</td>\n",
       "      <td>0.110000</td>\n",
       "    </tr>\n",
       "    <tr>\n",
       "      <th>3</th>\n",
       "      <td>0.097311</td>\n",
       "      <td>StandardAnalyzer@ClassicSimilarity</td>\n",
       "      <td>0.168421</td>\n",
       "    </tr>\n",
       "    <tr>\n",
       "      <th>4</th>\n",
       "      <td>0.053992</td>\n",
       "      <td>Lab2_Analyser@LM Dirichlet(2000.000000)</td>\n",
       "      <td>0.069231</td>\n",
       "    </tr>\n",
       "    <tr>\n",
       "      <th>5</th>\n",
       "      <td>0.126957</td>\n",
       "      <td>Lab2_Analyser@BM25(k1=1.2,b=0.75)</td>\n",
       "      <td>0.171429</td>\n",
       "    </tr>\n",
       "  </tbody>\n",
       "</table>\n",
       "</div>"
      ],
      "text/plain": [
       "        MAP                          Model with Ouliers       P10\n",
       "0  0.105000        StandardAnalyzer@BM25(k1=1.2,b=0.75)  0.152381\n",
       "1  0.109535                  Analyser@ClassicSimilarity  0.165217\n",
       "2  0.071935  StandardAnalyzer@LM Dirichlet(2000.000000)  0.110000\n",
       "3  0.097311          StandardAnalyzer@ClassicSimilarity  0.168421\n",
       "4  0.053992     Lab2_Analyser@LM Dirichlet(2000.000000)  0.069231\n",
       "5  0.126957           Lab2_Analyser@BM25(k1=1.2,b=0.75)  0.171429"
      ]
     },
     "execution_count": 9,
     "metadata": {},
     "output_type": "execute_result"
    }
   ],
   "source": [
    "data_o"
   ]
  },
  {
   "cell_type": "code",
   "execution_count": 10,
   "metadata": {},
   "outputs": [
    {
     "data": {
      "text/html": [
       "<div>\n",
       "<style scoped>\n",
       "    .dataframe tbody tr th:only-of-type {\n",
       "        vertical-align: middle;\n",
       "    }\n",
       "\n",
       "    .dataframe tbody tr th {\n",
       "        vertical-align: top;\n",
       "    }\n",
       "\n",
       "    .dataframe thead th {\n",
       "        text-align: right;\n",
       "    }\n",
       "</style>\n",
       "<table border=\"1\" class=\"dataframe\">\n",
       "  <thead>\n",
       "    <tr style=\"text-align: right;\">\n",
       "      <th></th>\n",
       "      <th>MAP</th>\n",
       "      <th>Model</th>\n",
       "      <th>P10</th>\n",
       "    </tr>\n",
       "  </thead>\n",
       "  <tbody>\n",
       "    <tr>\n",
       "      <th>1</th>\n",
       "      <td>0.0821</td>\n",
       "      <td>Analyser@ClassicSimilarity</td>\n",
       "      <td>0.1226</td>\n",
       "    </tr>\n",
       "    <tr>\n",
       "      <th>5</th>\n",
       "      <td>0.0873</td>\n",
       "      <td>Lab2_Analyser@BM25(k1=1.2,b=0.75)</td>\n",
       "      <td>0.1161</td>\n",
       "    </tr>\n",
       "    <tr>\n",
       "      <th>0</th>\n",
       "      <td>0.0725</td>\n",
       "      <td>StandardAnalyzer@BM25(k1=1.2,b=0.75)</td>\n",
       "      <td>0.1065</td>\n",
       "    </tr>\n",
       "    <tr>\n",
       "      <th>3</th>\n",
       "      <td>0.0612</td>\n",
       "      <td>StandardAnalyzer@ClassicSimilarity</td>\n",
       "      <td>0.1032</td>\n",
       "    </tr>\n",
       "    <tr>\n",
       "      <th>2</th>\n",
       "      <td>0.0473</td>\n",
       "      <td>StandardAnalyzer@LM Dirichlet(2000.000000)</td>\n",
       "      <td>0.0742</td>\n",
       "    </tr>\n",
       "    <tr>\n",
       "      <th>4</th>\n",
       "      <td>0.0454</td>\n",
       "      <td>Lab2_Analyser@LM Dirichlet(2000.000000)</td>\n",
       "      <td>0.0581</td>\n",
       "    </tr>\n",
       "  </tbody>\n",
       "</table>\n",
       "</div>"
      ],
      "text/plain": [
       "      MAP                                       Model     P10\n",
       "1  0.0821                  Analyser@ClassicSimilarity  0.1226\n",
       "5  0.0873           Lab2_Analyser@BM25(k1=1.2,b=0.75)  0.1161\n",
       "0  0.0725        StandardAnalyzer@BM25(k1=1.2,b=0.75)  0.1065\n",
       "3  0.0612          StandardAnalyzer@ClassicSimilarity  0.1032\n",
       "2  0.0473  StandardAnalyzer@LM Dirichlet(2000.000000)  0.0742\n",
       "4  0.0454     Lab2_Analyser@LM Dirichlet(2000.000000)  0.0581"
      ]
     },
     "execution_count": 10,
     "metadata": {},
     "output_type": "execute_result"
    }
   ],
   "source": [
    "data_sorted_P10"
   ]
  },
  {
   "cell_type": "code",
   "execution_count": 11,
   "metadata": {},
   "outputs": [
    {
     "data": {
      "text/html": [
       "<div>\n",
       "<style scoped>\n",
       "    .dataframe tbody tr th:only-of-type {\n",
       "        vertical-align: middle;\n",
       "    }\n",
       "\n",
       "    .dataframe tbody tr th {\n",
       "        vertical-align: top;\n",
       "    }\n",
       "\n",
       "    .dataframe thead th {\n",
       "        text-align: right;\n",
       "    }\n",
       "</style>\n",
       "<table border=\"1\" class=\"dataframe\">\n",
       "  <thead>\n",
       "    <tr style=\"text-align: right;\">\n",
       "      <th></th>\n",
       "      <th>MAP</th>\n",
       "      <th>Model with Ouliers</th>\n",
       "      <th>P10</th>\n",
       "    </tr>\n",
       "  </thead>\n",
       "  <tbody>\n",
       "    <tr>\n",
       "      <th>5</th>\n",
       "      <td>0.126957</td>\n",
       "      <td>Lab2_Analyser@BM25(k1=1.2,b=0.75)</td>\n",
       "      <td>0.171429</td>\n",
       "    </tr>\n",
       "    <tr>\n",
       "      <th>3</th>\n",
       "      <td>0.097311</td>\n",
       "      <td>StandardAnalyzer@ClassicSimilarity</td>\n",
       "      <td>0.168421</td>\n",
       "    </tr>\n",
       "    <tr>\n",
       "      <th>1</th>\n",
       "      <td>0.109535</td>\n",
       "      <td>Analyser@ClassicSimilarity</td>\n",
       "      <td>0.165217</td>\n",
       "    </tr>\n",
       "    <tr>\n",
       "      <th>0</th>\n",
       "      <td>0.105000</td>\n",
       "      <td>StandardAnalyzer@BM25(k1=1.2,b=0.75)</td>\n",
       "      <td>0.152381</td>\n",
       "    </tr>\n",
       "    <tr>\n",
       "      <th>2</th>\n",
       "      <td>0.071935</td>\n",
       "      <td>StandardAnalyzer@LM Dirichlet(2000.000000)</td>\n",
       "      <td>0.110000</td>\n",
       "    </tr>\n",
       "    <tr>\n",
       "      <th>4</th>\n",
       "      <td>0.053992</td>\n",
       "      <td>Lab2_Analyser@LM Dirichlet(2000.000000)</td>\n",
       "      <td>0.069231</td>\n",
       "    </tr>\n",
       "  </tbody>\n",
       "</table>\n",
       "</div>"
      ],
      "text/plain": [
       "        MAP                          Model with Ouliers       P10\n",
       "5  0.126957           Lab2_Analyser@BM25(k1=1.2,b=0.75)  0.171429\n",
       "3  0.097311          StandardAnalyzer@ClassicSimilarity  0.168421\n",
       "1  0.109535                  Analyser@ClassicSimilarity  0.165217\n",
       "0  0.105000        StandardAnalyzer@BM25(k1=1.2,b=0.75)  0.152381\n",
       "2  0.071935  StandardAnalyzer@LM Dirichlet(2000.000000)  0.110000\n",
       "4  0.053992     Lab2_Analyser@LM Dirichlet(2000.000000)  0.069231"
      ]
     },
     "execution_count": 11,
     "metadata": {},
     "output_type": "execute_result"
    }
   ],
   "source": [
    "data_o_sorted_P10"
   ]
  },
  {
   "cell_type": "code",
   "execution_count": 14,
   "metadata": {},
   "outputs": [
    {
     "data": {
      "text/html": [
       "<div>\n",
       "<style scoped>\n",
       "    .dataframe tbody tr th:only-of-type {\n",
       "        vertical-align: middle;\n",
       "    }\n",
       "\n",
       "    .dataframe tbody tr th {\n",
       "        vertical-align: top;\n",
       "    }\n",
       "\n",
       "    .dataframe thead th {\n",
       "        text-align: right;\n",
       "    }\n",
       "</style>\n",
       "<table border=\"1\" class=\"dataframe\">\n",
       "  <thead>\n",
       "    <tr style=\"text-align: right;\">\n",
       "      <th></th>\n",
       "      <th>MAP</th>\n",
       "      <th>Model</th>\n",
       "      <th>P10</th>\n",
       "    </tr>\n",
       "  </thead>\n",
       "  <tbody>\n",
       "    <tr>\n",
       "      <th>5</th>\n",
       "      <td>0.0873</td>\n",
       "      <td>Lab2_Analyser@BM25(k1=1.2,b=0.75)</td>\n",
       "      <td>0.1161</td>\n",
       "    </tr>\n",
       "    <tr>\n",
       "      <th>1</th>\n",
       "      <td>0.0821</td>\n",
       "      <td>Analyser@ClassicSimilarity</td>\n",
       "      <td>0.1226</td>\n",
       "    </tr>\n",
       "    <tr>\n",
       "      <th>0</th>\n",
       "      <td>0.0725</td>\n",
       "      <td>StandardAnalyzer@BM25(k1=1.2,b=0.75)</td>\n",
       "      <td>0.1065</td>\n",
       "    </tr>\n",
       "    <tr>\n",
       "      <th>3</th>\n",
       "      <td>0.0612</td>\n",
       "      <td>StandardAnalyzer@ClassicSimilarity</td>\n",
       "      <td>0.1032</td>\n",
       "    </tr>\n",
       "    <tr>\n",
       "      <th>2</th>\n",
       "      <td>0.0473</td>\n",
       "      <td>StandardAnalyzer@LM Dirichlet(2000.000000)</td>\n",
       "      <td>0.0742</td>\n",
       "    </tr>\n",
       "    <tr>\n",
       "      <th>4</th>\n",
       "      <td>0.0454</td>\n",
       "      <td>Lab2_Analyser@LM Dirichlet(2000.000000)</td>\n",
       "      <td>0.0581</td>\n",
       "    </tr>\n",
       "  </tbody>\n",
       "</table>\n",
       "</div>"
      ],
      "text/plain": [
       "      MAP                                       Model     P10\n",
       "5  0.0873           Lab2_Analyser@BM25(k1=1.2,b=0.75)  0.1161\n",
       "1  0.0821                  Analyser@ClassicSimilarity  0.1226\n",
       "0  0.0725        StandardAnalyzer@BM25(k1=1.2,b=0.75)  0.1065\n",
       "3  0.0612          StandardAnalyzer@ClassicSimilarity  0.1032\n",
       "2  0.0473  StandardAnalyzer@LM Dirichlet(2000.000000)  0.0742\n",
       "4  0.0454     Lab2_Analyser@LM Dirichlet(2000.000000)  0.0581"
      ]
     },
     "execution_count": 14,
     "metadata": {},
     "output_type": "execute_result"
    }
   ],
   "source": [
    "data_sorted_Map"
   ]
  },
  {
   "cell_type": "code",
   "execution_count": 13,
   "metadata": {},
   "outputs": [
    {
     "data": {
      "text/html": [
       "<div>\n",
       "<style scoped>\n",
       "    .dataframe tbody tr th:only-of-type {\n",
       "        vertical-align: middle;\n",
       "    }\n",
       "\n",
       "    .dataframe tbody tr th {\n",
       "        vertical-align: top;\n",
       "    }\n",
       "\n",
       "    .dataframe thead th {\n",
       "        text-align: right;\n",
       "    }\n",
       "</style>\n",
       "<table border=\"1\" class=\"dataframe\">\n",
       "  <thead>\n",
       "    <tr style=\"text-align: right;\">\n",
       "      <th></th>\n",
       "      <th>MAP</th>\n",
       "      <th>Model with Ouliers</th>\n",
       "      <th>P10</th>\n",
       "    </tr>\n",
       "  </thead>\n",
       "  <tbody>\n",
       "    <tr>\n",
       "      <th>5</th>\n",
       "      <td>0.126957</td>\n",
       "      <td>Lab2_Analyser@BM25(k1=1.2,b=0.75)</td>\n",
       "      <td>0.171429</td>\n",
       "    </tr>\n",
       "    <tr>\n",
       "      <th>1</th>\n",
       "      <td>0.109535</td>\n",
       "      <td>Analyser@ClassicSimilarity</td>\n",
       "      <td>0.165217</td>\n",
       "    </tr>\n",
       "    <tr>\n",
       "      <th>0</th>\n",
       "      <td>0.105000</td>\n",
       "      <td>StandardAnalyzer@BM25(k1=1.2,b=0.75)</td>\n",
       "      <td>0.152381</td>\n",
       "    </tr>\n",
       "    <tr>\n",
       "      <th>3</th>\n",
       "      <td>0.097311</td>\n",
       "      <td>StandardAnalyzer@ClassicSimilarity</td>\n",
       "      <td>0.168421</td>\n",
       "    </tr>\n",
       "    <tr>\n",
       "      <th>2</th>\n",
       "      <td>0.071935</td>\n",
       "      <td>StandardAnalyzer@LM Dirichlet(2000.000000)</td>\n",
       "      <td>0.110000</td>\n",
       "    </tr>\n",
       "    <tr>\n",
       "      <th>4</th>\n",
       "      <td>0.053992</td>\n",
       "      <td>Lab2_Analyser@LM Dirichlet(2000.000000)</td>\n",
       "      <td>0.069231</td>\n",
       "    </tr>\n",
       "  </tbody>\n",
       "</table>\n",
       "</div>"
      ],
      "text/plain": [
       "        MAP                          Model with Ouliers       P10\n",
       "5  0.126957           Lab2_Analyser@BM25(k1=1.2,b=0.75)  0.171429\n",
       "1  0.109535                  Analyser@ClassicSimilarity  0.165217\n",
       "0  0.105000        StandardAnalyzer@BM25(k1=1.2,b=0.75)  0.152381\n",
       "3  0.097311          StandardAnalyzer@ClassicSimilarity  0.168421\n",
       "2  0.071935  StandardAnalyzer@LM Dirichlet(2000.000000)  0.110000\n",
       "4  0.053992     Lab2_Analyser@LM Dirichlet(2000.000000)  0.069231"
      ]
     },
     "execution_count": 13,
     "metadata": {},
     "output_type": "execute_result"
    }
   ],
   "source": [
    "data_o_sorted_Map"
   ]
  },
  {
   "cell_type": "markdown",
   "metadata": {},
   "source": [
    "![title](media/Will-Smith-Meme-12.png)"
   ]
  }
 ],
 "metadata": {
  "kernelspec": {
   "display_name": "Python 3",
   "language": "python",
   "name": "python3"
  },
  "language_info": {
   "codemirror_mode": {
    "name": "ipython",
    "version": 3
   },
   "file_extension": ".py",
   "mimetype": "text/x-python",
   "name": "python",
   "nbconvert_exporter": "python",
   "pygments_lexer": "ipython3",
   "version": "3.6.4"
  }
 },
 "nbformat": 4,
 "nbformat_minor": 2
}
