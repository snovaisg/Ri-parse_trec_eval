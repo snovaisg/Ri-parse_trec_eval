{
 "cells": [
  {
   "cell_type": "code",
   "execution_count": 1,
   "metadata": {},
   "outputs": [],
   "source": [
    "import numpy as np\n",
    "import pandas as pd\n",
    "import matplotlib.pyplot as plt\n",
    "from scipy.integrate import simps\n",
    "from sklearn.preprocessing import StandardScaler\n",
    "import re\n",
    "from pandas.plotting import table\n",
    "import subprocess\n",
    "import os"
   ]
  },
  {
   "cell_type": "code",
   "execution_count": 2,
   "metadata": {},
   "outputs": [],
   "source": [
    "trec_outputs_folder_path = \"trec-models/\"\n",
    "trec_model_outputs_folder_path = \"Model-outputs/\"\n",
    "queries_filename = \"Queries/queries_offline.txt\""
   ]
  },
  {
   "cell_type": "markdown",
   "metadata": {},
   "source": [
    "## DataFrame info\n"
   ]
  },
  {
   "cell_type": "code",
   "execution_count": 3,
   "metadata": {},
   "outputs": [],
   "source": [
    "recall_order = [0,0.1,0.2,0.3,0.4,0.5,0.6,0.7,0.8,0.9,1]\n",
    "iprec_at_recallN = [\"iprec_at_recall_0.00\", \"iprec_at_recall_0.10\",\"iprec_at_recall_0.20\",\"iprec_at_recall_0.30\",\n",
    "                    \"iprec_at_recall_0.40\",\"iprec_at_recall_0.50\",\"iprec_at_recall_0.60\",\"iprec_at_recall_0.70\",\n",
    "                    \"iprec_at_recall_0.80\",\"iprec_at_recall_0.90\",\"iprec_at_recall_1.00\"]\n",
    "P_N = [\"P_5\",\"P_10\",\"P_15\",\"P_20\",\"P_30\",\"P_100\",\"P_200\",\"P_500\",\"P_1000\"]"
   ]
  },
  {
   "cell_type": "markdown",
   "metadata": {},
   "source": [
    "## Preprocess a trec_eval output DataFrame"
   ]
  },
  {
   "cell_type": "code",
   "execution_count": 4,
   "metadata": {},
   "outputs": [],
   "source": [
    "def preprocess(df_):\n",
    "    df_cpy = df_.copy()\n",
    "    # remove whitespaces that came from trec_eval \n",
    "    df_cpy = df_cpy.apply(lambda x: x.str.strip() if x.dtype == \"object\" else x)\n",
    "    # convert the number values that are represented as strings to be represented as floats\n",
    "    df_cpy.Values = df_cpy.Values.apply(lambda x: float(x) if re.search('[a-zA-Z]', x) == None else x)\n",
    "    \n",
    "    #make the dataframe a double index\n",
    "    df_cpy = df_cpy.set_index(['Id', 'Desc'])\n",
    "    #it's a convention to call sort_index() after a double index has been created\n",
    "    df_cpy = df_cpy.sort_index()\n",
    "    return df_cpy"
   ]
  },
  {
   "cell_type": "markdown",
   "metadata": {},
   "source": [
    "## save the prec_recall plot "
   ]
  },
  {
   "cell_type": "code",
   "execution_count": 5,
   "metadata": {},
   "outputs": [],
   "source": [
    "def plot_prec_recall(df_,save_path,filename,model,save=False,showplot=True):\n",
    "    idx = pd.IndexSlice\n",
    "\n",
    "    df_cpy = df_.copy()\n",
    "    # get all the query Ids that exist in our dataframe\n",
    "    QueryIds = df_cpy.reset_index()[\"Id\"].unique()\n",
    "    \n",
    "    plt.rcParams[\"figure.figsize\"] = (16,14)\n",
    "    \n",
    "    #plt.figure(figsize=(16,14))\n",
    "    plt.figure(1)\n",
    "    for query in range(len(QueryIds)):\n",
    "        x = recall_order\n",
    "        y = df_cpy.loc[idx[QueryIds[query],iprec_at_recallN], 'Values'].values\n",
    "        if (QueryIds[query] == 'all'):\n",
    "            plt.plot(x,y,label=\"QueryId {}\".format(QueryIds[query]),linewidth=8)\n",
    "        else:\n",
    "            plt.plot(x,y,label=\"QueryId {}\".format(QueryIds[query]))\n",
    "    plt.text(0.7,1,model)\n",
    "    plt.title(\"Precision-recall curves for all queries\",)\n",
    "    plt.xlabel(\"Recall\")\n",
    "    plt.ylabel(\"Precision\")\n",
    "    if showplot:\n",
    "        plt.legend()\n",
    "    if save:\n",
    "        plt.savefig(os.path.join(save_path,filename)+\".png\",bbox_inches=\"tight\")\n",
    "    plt.close()\n",
    "    print(\"Ok\")"
   ]
  },
  {
   "cell_type": "markdown",
   "metadata": {},
   "source": [
    "## Fetch all trec_output files from a directory"
   ]
  },
  {
   "cell_type": "code",
   "execution_count": 6,
   "metadata": {},
   "outputs": [],
   "source": [
    "#inputs: absolute path of the folder where all the trec outputs are\n",
    "#outputs: returns list of filenames\n",
    "def get_all_trec_outputs(path):\n",
    "    return [file for file in os.listdir(path) if file[0] != '.']"
   ]
  },
  {
   "cell_type": "markdown",
   "metadata": {},
   "source": [
    "## Load dataframe"
   ]
  },
  {
   "cell_type": "code",
   "execution_count": 7,
   "metadata": {},
   "outputs": [],
   "source": [
    "def build_df(path):\n",
    "    df = pd.read_csv(path,delimiter='\\t',header=None,names=[\"Desc\",\"Id\",\"Values\"])\n",
    "    df = preprocess(df)\n",
    "    return df"
   ]
  },
  {
   "cell_type": "markdown",
   "metadata": {},
   "source": [
    "## build dataframe of queries"
   ]
  },
  {
   "cell_type": "code",
   "execution_count": 8,
   "metadata": {},
   "outputs": [],
   "source": [
    "def build_queries_df(queries_filename):\n",
    "    q_df = pd.read_csv(queries_filename,delimiter=\"\\t\",header=None,names=[\"Id\",\"query\"])\n",
    "    q_df.Id = q_df.Id.apply(lambda x: str(x))\n",
    "    q_df = q_df.set_index(\"Id\")\n",
    "    return q_df"
   ]
  },
  {
   "cell_type": "markdown",
   "metadata": {},
   "source": [
    "## remove outliers from dataframe"
   ]
  },
  {
   "cell_type": "code",
   "execution_count": 9,
   "metadata": {},
   "outputs": [],
   "source": [
    "def rem_outliers_by_ap(df_):\n",
    "    idx = pd.IndexSlice\n",
    "    \n",
    "    # return dataframe with only AP values as column and queryId as index\n",
    "    def ap(df):\n",
    "        area_prec_recall = df.loc[idx[:, \"map\"],].reset_index().drop(\"Desc\",axis=1).set_index(\"Id\")\n",
    "        area_prec_recall.rename(columns={\"Values\":\"AP\"},inplace=True)\n",
    "        area_prec_recall= area_prec_recall.sort_values(by=[\"AP\"],ascending=False)\n",
    "        return area_prec_recall\n",
    "    \n",
    "    # return as a dataframe the worst queries by ap\n",
    "    def worst_queries_by_ap(df):\n",
    "        area_prec_recall = ap(df)\n",
    "        area_prec_recall_std = (area_prec_recall - area_prec_recall.mean())/area_prec_recall.std()\n",
    "        bad_results_stand = area_prec_recall_std[area_prec_recall_std[\"AP\"] < -0.7]\n",
    "        worst_queries_by_AP_value = area_prec_recall.loc[bad_results_stand.index].sort_values(by=[\"AP\"],ascending=False)\n",
    "        return worst_queries_by_AP_value\n",
    "    \n",
    "    # get outliers-by-ap's index\n",
    "    def get_outliers_idx_by_ap(df_):\n",
    "        outliers_idx = list(worst_queries_by_ap(df_).index.values)\n",
    "        outliers_idx.append(\"all\") #also remove the \"all\" index since it doesn't anymore represent the mean\n",
    "        return outliers_idx\n",
    "    \n",
    "    \n",
    "    outliers_idx = get_outliers_idx_by_ap(df_)\n",
    "    new_idx = [idx for idx in df_.index.levels[0] if idx not in outliers_idx]\n",
    "    return df_.loc[idx[new_idx,],]"
   ]
  },
  {
   "cell_type": "markdown",
   "metadata": {},
   "source": [
    "## create and save prec_recall plots"
   ]
  },
  {
   "cell_type": "code",
   "execution_count": 10,
   "metadata": {},
   "outputs": [],
   "source": [
    "def rem_ext(file):\n",
    "    return file[:file.find(\".txt\")]"
   ]
  },
  {
   "cell_type": "code",
   "execution_count": 11,
   "metadata": {},
   "outputs": [
    {
     "name": "stdout",
     "output_type": "stream",
     "text": [
      "Ok\n",
      "Ok\n",
      "Ok\n",
      "Ok\n",
      "Ok\n",
      "Ok\n",
      "Ok\n",
      "Ok\n",
      "Ok\n",
      "Ok\n",
      "Ok\n",
      "Ok\n"
     ]
    }
   ],
   "source": [
    "def create_prec_recall_plots(trec_output_path,save_output_path,filename):\n",
    "    idx = pd.IndexSlice\n",
    "    \n",
    "    if not os.path.exists(save_output_path):\n",
    "        os.makedirs(save_output_path)\n",
    "    \n",
    "    for file in get_all_trec_outputs(trec_output_path):\n",
    "        df = build_df(os.path.join(trec_outputs_folder_path,file))\n",
    "\n",
    "        save_path = os.path.join(save_output_path,rem_ext(file))\n",
    "        if not os.path.exists(save_path):\n",
    "            os.makedirs(save_path)\n",
    "            \n",
    "        #normal df\n",
    "        plot_prec_recall(df,save_path,filename,rem_ext(file),True,showplot=False)\n",
    "        stats = pd.DataFrame({\"P_10\":df.loc[idx[\"all\",\"P_10\"],],\"map\":df.loc[idx[\"all\",\"map\"]]})\n",
    "        stats.to_csv(os.path.join(save_path,\"stats.csv\"),index=False)\n",
    "        \n",
    "        #df without outliers by AP\n",
    "        df_o_ap = rem_outliers_by_ap(df)\n",
    "        plot_prec_recall(df_o_ap,save_path,filename+\"_o\",rem_ext(file),True,showplot=True)\n",
    "        stats = pd.DataFrame({\"P_10\":df_o_ap.loc[idx[:,\"P_10\"],].mean(),\"map\":df_o_ap.loc[idx[:,\"map\"],].mean()})\n",
    "        stats.to_csv(os.path.join(save_path,\"stats_o.csv\"),index=False)\n",
    "\n",
    "create_prec_recall_plots(trec_outputs_folder_path,trec_model_outputs_folder_path,\"prec_recall\")"
   ]
  },
  {
   "cell_type": "code",
   "execution_count": null,
   "metadata": {},
   "outputs": [],
   "source": []
  }
 ],
 "metadata": {
  "kernelspec": {
   "display_name": "Python 3",
   "language": "python",
   "name": "python3"
  },
  "language_info": {
   "codemirror_mode": {
    "name": "ipython",
    "version": 3
   },
   "file_extension": ".py",
   "mimetype": "text/x-python",
   "name": "python",
   "nbconvert_exporter": "python",
   "pygments_lexer": "ipython3",
   "version": "3.6.4"
  }
 },
 "nbformat": 4,
 "nbformat_minor": 2
}
