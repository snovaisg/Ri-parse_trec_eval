{
 "cells": [
  {
   "cell_type": "code",
   "execution_count": 1,
   "metadata": {},
   "outputs": [],
   "source": [
    "import numpy as np\n",
    "import pandas as pd\n",
    "import matplotlib.pyplot as plt\n",
    "from scipy.integrate import simps\n",
    "from sklearn.preprocessing import StandardScaler\n",
    "import re\n",
    "from pandas.plotting import table\n",
    "import subprocess\n",
    "import os"
   ]
  },
  {
   "cell_type": "code",
   "execution_count": 8,
   "metadata": {},
   "outputs": [],
   "source": [
    "trec_outputs_folder_path = \"/Users/simaonovais/Desktop/Mestrado/RI/Ri-parse_trec_eval/Ri-parse_trec_eval/trec-models/\"\n",
    "trec_model_outputs_folder_path = \"/Users/simaonovais/Desktop/Mestrado/RI/Ri-parse_trec_eval/Ri-parse_trec_eval/Model-outputs/\""
   ]
  },
  {
   "cell_type": "markdown",
   "metadata": {},
   "source": [
    "## DataFrame info\n"
   ]
  },
  {
   "cell_type": "code",
   "execution_count": 20,
   "metadata": {},
   "outputs": [],
   "source": [
    "recall_order = [0,0.1,0.2,0.3,0.4,0.5,0.6,0.7,0.8,0.9,1]\n",
    "iprec_at_recallN = [\"iprec_at_recall_0.00\", \"iprec_at_recall_0.10\",\"iprec_at_recall_0.20\",\"iprec_at_recall_0.30\",\n",
    "                    \"iprec_at_recall_0.40\",\"iprec_at_recall_0.50\",\"iprec_at_recall_0.60\",\"iprec_at_recall_0.70\",\n",
    "                    \"iprec_at_recall_0.80\",\"iprec_at_recall_0.90\",\"iprec_at_recall_1.00\"]\n",
    "P_N = [\"P_5\",\"P_10\",\"P_15\",\"P_20\",\"P_30\",\"P_100\",\"P_200\",\"P_500\",\"P_1000\"]"
   ]
  },
  {
   "cell_type": "markdown",
   "metadata": {},
   "source": [
    "## Preprocess a trec_eval output DataFrame"
   ]
  },
  {
   "cell_type": "code",
   "execution_count": 2,
   "metadata": {},
   "outputs": [],
   "source": [
    "def preprocess(df_):\n",
    "    df_cpy = df_.copy()\n",
    "    # remove whitespaces that came from trec_eval \n",
    "    df_cpy = df_cpy.apply(lambda x: x.str.strip() if x.dtype == \"object\" else x)\n",
    "    # convert the number values that are represented as strings to be represented as floats\n",
    "    df_cpy.Values = df_cpy.Values.apply(lambda x: float(x) if re.search('[a-zA-Z]', x) == None else x)\n",
    "    \n",
    "    #make the dataframe a double index\n",
    "    df_cpy = df_cpy.set_index(['Id', 'Desc'])\n",
    "    #it's a convention to call sort_index() after a double index has been created\n",
    "    df_cpy = df_cpy.sort_index()\n",
    "    return df_cpy"
   ]
  },
  {
   "cell_type": "markdown",
   "metadata": {},
   "source": [
    "## save the prec_recall plot "
   ]
  },
  {
   "cell_type": "code",
   "execution_count": 89,
   "metadata": {},
   "outputs": [],
   "source": [
    "def plot_prec_recall(df_,save_path,model,save=False,showplot=True):\n",
    "    idx = pd.IndexSlice\n",
    "\n",
    "    df_cpy = df_.copy()\n",
    "    # get all the query Ids that exist in our dataframe\n",
    "    QueryIds = df_cpy.index.levels[0]\n",
    "    \n",
    "    plt.rcParams[\"figure.figsize\"] = (16,14)\n",
    "    \n",
    "    #plt.figure(figsize=(16,14))\n",
    "    plt.figure(1)\n",
    "    for query in range(len(QueryIds)):\n",
    "        x = recall_order\n",
    "        y = df_cpy.loc[idx[QueryIds[query],iprec_at_recallN], 'Values'].values\n",
    "        if (QueryIds[query] == 'all'):\n",
    "            plt.plot(x,y,label=\"QueryId {}\".format(QueryIds[query]),linewidth=8)\n",
    "        else:\n",
    "            plt.plot(x,y,label=\"QueryId {}\".format(QueryIds[query]))\n",
    "    plt.text(0.7,1,model)\n",
    "    plt.title(\"Precision-recall curves for all queries\",)\n",
    "    plt.xlabel(\"Recall\")\n",
    "    plt.ylabel(\"Precision\")\n",
    "    if showplot:\n",
    "        plt.legend()\n",
    "    if save:\n",
    "        plt.savefig(os.path.join(save_path,\"map_plot\")+\".png\",bbox_inches=\"tight\")\n",
    "    plt.close()"
   ]
  },
  {
   "cell_type": "markdown",
   "metadata": {},
   "source": [
    "## Fetch all trec_output files from a directory"
   ]
  },
  {
   "cell_type": "code",
   "execution_count": 84,
   "metadata": {},
   "outputs": [],
   "source": [
    "#inputs: absolute path of the folder where all the trec outputs are\n",
    "#outputs: returns list of filenames\n",
    "def get_all_trec_outputs(path):\n",
    "    return [file for file in os.listdir(path) if file[0] != '.']"
   ]
  },
  {
   "cell_type": "markdown",
   "metadata": {},
   "source": [
    "## Load dataframe"
   ]
  },
  {
   "cell_type": "code",
   "execution_count": 23,
   "metadata": {},
   "outputs": [],
   "source": [
    "def build_df(path):\n",
    "    df = pd.read_csv(path,delimiter='\\t',header=None,names=[\"Desc\",\"Id\",\"Values\"])\n",
    "    df = preprocess(df)\n",
    "    return df"
   ]
  },
  {
   "cell_type": "markdown",
   "metadata": {},
   "source": [
    "## create and save prec_recall plots"
   ]
  },
  {
   "cell_type": "code",
   "execution_count": 92,
   "metadata": {},
   "outputs": [],
   "source": [
    "def create_prec_recall_plots(trec_output_path,plot_save_output_path):\n",
    "    for file in get_all_trec_outputs(trec_output_path):\n",
    "        df = build_df(trec_outputs_folder_path+file1)\n",
    "\n",
    "        save_path = os.path.join(trec_model_outputs_folder_path,rem_txt(file))\n",
    "        save_file = os.path.join(save_path,\"map_plot\")\n",
    "        if not os.path.exists(save_path):\n",
    "            os.makedirs(save_path)\n",
    "        plot_prec_recall(df,save_path,rem_ext(file),True,showplot=False)\n",
    "\n",
    "create_prec_recall_plots(trec_outputs_folder_path,trec_model_outputs_folder_path)"
   ]
  },
  {
   "cell_type": "markdown",
   "metadata": {},
   "source": [
    "## Testing"
   ]
  },
  {
   "cell_type": "code",
   "execution_count": 90,
   "metadata": {},
   "outputs": [],
   "source": [
    "df = build_df()\n",
    "df=pd.DataFrame({'Data':np.random.normal(size=200)})  #example dataset of normally distributed data. \n",
    "df[np.abs(df.Data-df.Data.mean())<=(3*df.Data.std())] #keep only the ones that are within +3 to -3 standard deviations in the column 'Data'.\n",
    "df[~(np.abs(df.Data-df.Data.mean())>(3*df.Data.std()))] #or if you prefer the other way around"
   ]
  },
  {
   "cell_type": "code",
   "execution_count": null,
   "metadata": {},
   "outputs": [],
   "source": []
  },
  {
   "cell_type": "code",
   "execution_count": null,
   "metadata": {},
   "outputs": [],
   "source": []
  }
 ],
 "metadata": {
  "kernelspec": {
   "display_name": "Python 3",
   "language": "python",
   "name": "python3"
  },
  "language_info": {
   "codemirror_mode": {
    "name": "ipython",
    "version": 3
   },
   "file_extension": ".py",
   "mimetype": "text/x-python",
   "name": "python",
   "nbconvert_exporter": "python",
   "pygments_lexer": "ipython3",
   "version": "3.6.4"
  }
 },
 "nbformat": 4,
 "nbformat_minor": 2
}
