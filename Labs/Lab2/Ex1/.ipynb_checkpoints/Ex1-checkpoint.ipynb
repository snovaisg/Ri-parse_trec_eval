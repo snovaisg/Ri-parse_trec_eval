{
 "cells": [
  {
   "cell_type": "code",
   "execution_count": 3,
   "metadata": {},
   "outputs": [],
   "source": [
    "import numpy as np\n",
    "import pandas as pd\n",
    "import matplotlib.pyplot as plt\n",
    "import os"
   ]
  },
  {
   "cell_type": "markdown",
   "metadata": {},
   "source": [
    "## Files"
   ]
  },
  {
   "cell_type": "code",
   "execution_count": 4,
   "metadata": {},
   "outputs": [],
   "source": [
    "path = \"../../../Results/Lab2_Ex1/\"\n",
    "files = [file for file in os.listdir(path) if file[0] != '.']"
   ]
  },
  {
   "cell_type": "code",
   "execution_count": 5,
   "metadata": {},
   "outputs": [
    {
     "data": {
      "text/plain": [
       "['data_o_sorted_P10.csv',\n",
       " 'data_o_sorted_Map.csv',\n",
       " 'data.csv',\n",
       " 'data_sorted_Map.csv',\n",
       " 'data_o.csv',\n",
       " 'data_sorted_P10.csv']"
      ]
     },
     "execution_count": 5,
     "metadata": {},
     "output_type": "execute_result"
    }
   ],
   "source": [
    "files"
   ]
  },
  {
   "cell_type": "markdown",
   "metadata": {},
   "source": [
    "## models"
   ]
  },
  {
   "cell_type": "code",
   "execution_count": 6,
   "metadata": {},
   "outputs": [],
   "source": [
    "models = [\"StandardAnalyzer@LM Dirichlet(2000.000000)\",\"StandardAnalyzer@ClassicSimilarity\",\"StandardAnalyzer@BM25(k1=1.2,b=0.75)\"]"
   ]
  },
  {
   "cell_type": "markdown",
   "metadata": {},
   "source": [
    "## fetch dataFrames"
   ]
  },
  {
   "cell_type": "code",
   "execution_count": 7,
   "metadata": {},
   "outputs": [],
   "source": [
    "data = pd.read_csv(os.path.join(path,\"data.csv\"),usecols=[\"MAP\",\"Model\",\"P10\"])\n",
    "data_o = pd.read_csv(os.path.join(path,\"data_o.csv\"),usecols=[\"MAP\",\"Model with Ouliers\",\"P10\"])\n",
    "data_sorted_P10 = pd.read_csv(os.path.join(path,\"data_sorted_P10.csv\"),usecols=[\"MAP\",\"Model\",\"P10\"])\n",
    "data_o_sorted_P10 = pd.read_csv(os.path.join(path,\"data_o_sorted_P10.csv\"),usecols=[\"MAP\",\"Model with Ouliers\",\"P10\"])\n",
    "data_sorted_Map = pd.read_csv(os.path.join(path,\"data_sorted_Map.csv\"),usecols=[\"MAP\",\"Model\",\"P10\"])\n",
    "data_o_sorted_Map = pd.read_csv(os.path.join(path,\"data_o_sorted_Map.csv\"),usecols=[\"MAP\",\"Model with Ouliers\",\"P10\"])"
   ]
  },
  {
   "cell_type": "markdown",
   "metadata": {},
   "source": [
    "## DataFrames of models requested in Ex1"
   ]
  },
  {
   "cell_type": "code",
   "execution_count": 8,
   "metadata": {},
   "outputs": [
    {
     "data": {
      "text/html": [
       "<div>\n",
       "<style scoped>\n",
       "    .dataframe tbody tr th:only-of-type {\n",
       "        vertical-align: middle;\n",
       "    }\n",
       "\n",
       "    .dataframe tbody tr th {\n",
       "        vertical-align: top;\n",
       "    }\n",
       "\n",
       "    .dataframe thead th {\n",
       "        text-align: right;\n",
       "    }\n",
       "</style>\n",
       "<table border=\"1\" class=\"dataframe\">\n",
       "  <thead>\n",
       "    <tr style=\"text-align: right;\">\n",
       "      <th></th>\n",
       "      <th>MAP</th>\n",
       "      <th>Model</th>\n",
       "      <th>P10</th>\n",
       "    </tr>\n",
       "  </thead>\n",
       "  <tbody>\n",
       "    <tr>\n",
       "      <th>0</th>\n",
       "      <td>0.0725</td>\n",
       "      <td>StandardAnalyzer@BM25(k1=1.2,b=0.75)</td>\n",
       "      <td>0.1065</td>\n",
       "    </tr>\n",
       "    <tr>\n",
       "      <th>2</th>\n",
       "      <td>0.0473</td>\n",
       "      <td>StandardAnalyzer@LM Dirichlet(2000.000000)</td>\n",
       "      <td>0.0742</td>\n",
       "    </tr>\n",
       "    <tr>\n",
       "      <th>3</th>\n",
       "      <td>0.0612</td>\n",
       "      <td>StandardAnalyzer@ClassicSimilarity</td>\n",
       "      <td>0.1032</td>\n",
       "    </tr>\n",
       "  </tbody>\n",
       "</table>\n",
       "</div>"
      ],
      "text/plain": [
       "      MAP                                       Model     P10\n",
       "0  0.0725        StandardAnalyzer@BM25(k1=1.2,b=0.75)  0.1065\n",
       "2  0.0473  StandardAnalyzer@LM Dirichlet(2000.000000)  0.0742\n",
       "3  0.0612          StandardAnalyzer@ClassicSimilarity  0.1032"
      ]
     },
     "execution_count": 8,
     "metadata": {},
     "output_type": "execute_result"
    }
   ],
   "source": [
    "data.loc[data.isin(models)[\"Model\"]]"
   ]
  },
  {
   "cell_type": "code",
   "execution_count": 9,
   "metadata": {},
   "outputs": [
    {
     "data": {
      "text/html": [
       "<div>\n",
       "<style scoped>\n",
       "    .dataframe tbody tr th:only-of-type {\n",
       "        vertical-align: middle;\n",
       "    }\n",
       "\n",
       "    .dataframe tbody tr th {\n",
       "        vertical-align: top;\n",
       "    }\n",
       "\n",
       "    .dataframe thead th {\n",
       "        text-align: right;\n",
       "    }\n",
       "</style>\n",
       "<table border=\"1\" class=\"dataframe\">\n",
       "  <thead>\n",
       "    <tr style=\"text-align: right;\">\n",
       "      <th></th>\n",
       "      <th>MAP</th>\n",
       "      <th>Model with Ouliers</th>\n",
       "      <th>P10</th>\n",
       "    </tr>\n",
       "  </thead>\n",
       "  <tbody>\n",
       "    <tr>\n",
       "      <th>0</th>\n",
       "      <td>0.105000</td>\n",
       "      <td>StandardAnalyzer@BM25(k1=1.2,b=0.75)</td>\n",
       "      <td>0.152381</td>\n",
       "    </tr>\n",
       "    <tr>\n",
       "      <th>2</th>\n",
       "      <td>0.071935</td>\n",
       "      <td>StandardAnalyzer@LM Dirichlet(2000.000000)</td>\n",
       "      <td>0.110000</td>\n",
       "    </tr>\n",
       "    <tr>\n",
       "      <th>3</th>\n",
       "      <td>0.097311</td>\n",
       "      <td>StandardAnalyzer@ClassicSimilarity</td>\n",
       "      <td>0.168421</td>\n",
       "    </tr>\n",
       "  </tbody>\n",
       "</table>\n",
       "</div>"
      ],
      "text/plain": [
       "        MAP                          Model with Ouliers       P10\n",
       "0  0.105000        StandardAnalyzer@BM25(k1=1.2,b=0.75)  0.152381\n",
       "2  0.071935  StandardAnalyzer@LM Dirichlet(2000.000000)  0.110000\n",
       "3  0.097311          StandardAnalyzer@ClassicSimilarity  0.168421"
      ]
     },
     "execution_count": 9,
     "metadata": {},
     "output_type": "execute_result"
    }
   ],
   "source": [
    "data_o.loc[data_o.isin(models)[\"Model with Ouliers\"]]"
   ]
  },
  {
   "cell_type": "code",
   "execution_count": 10,
   "metadata": {},
   "outputs": [
    {
     "data": {
      "text/html": [
       "<div>\n",
       "<style scoped>\n",
       "    .dataframe tbody tr th:only-of-type {\n",
       "        vertical-align: middle;\n",
       "    }\n",
       "\n",
       "    .dataframe tbody tr th {\n",
       "        vertical-align: top;\n",
       "    }\n",
       "\n",
       "    .dataframe thead th {\n",
       "        text-align: right;\n",
       "    }\n",
       "</style>\n",
       "<table border=\"1\" class=\"dataframe\">\n",
       "  <thead>\n",
       "    <tr style=\"text-align: right;\">\n",
       "      <th></th>\n",
       "      <th>MAP</th>\n",
       "      <th>Model</th>\n",
       "      <th>P10</th>\n",
       "    </tr>\n",
       "  </thead>\n",
       "  <tbody>\n",
       "    <tr>\n",
       "      <th>2</th>\n",
       "      <td>0.0725</td>\n",
       "      <td>StandardAnalyzer@BM25(k1=1.2,b=0.75)</td>\n",
       "      <td>0.1065</td>\n",
       "    </tr>\n",
       "    <tr>\n",
       "      <th>3</th>\n",
       "      <td>0.0612</td>\n",
       "      <td>StandardAnalyzer@ClassicSimilarity</td>\n",
       "      <td>0.1032</td>\n",
       "    </tr>\n",
       "    <tr>\n",
       "      <th>4</th>\n",
       "      <td>0.0473</td>\n",
       "      <td>StandardAnalyzer@LM Dirichlet(2000.000000)</td>\n",
       "      <td>0.0742</td>\n",
       "    </tr>\n",
       "  </tbody>\n",
       "</table>\n",
       "</div>"
      ],
      "text/plain": [
       "      MAP                                       Model     P10\n",
       "2  0.0725        StandardAnalyzer@BM25(k1=1.2,b=0.75)  0.1065\n",
       "3  0.0612          StandardAnalyzer@ClassicSimilarity  0.1032\n",
       "4  0.0473  StandardAnalyzer@LM Dirichlet(2000.000000)  0.0742"
      ]
     },
     "execution_count": 10,
     "metadata": {},
     "output_type": "execute_result"
    }
   ],
   "source": [
    "data_sorted_P10.loc[data_sorted_P10.isin(models)[\"Model\"]]"
   ]
  },
  {
   "cell_type": "code",
   "execution_count": 11,
   "metadata": {},
   "outputs": [
    {
     "data": {
      "text/html": [
       "<div>\n",
       "<style scoped>\n",
       "    .dataframe tbody tr th:only-of-type {\n",
       "        vertical-align: middle;\n",
       "    }\n",
       "\n",
       "    .dataframe tbody tr th {\n",
       "        vertical-align: top;\n",
       "    }\n",
       "\n",
       "    .dataframe thead th {\n",
       "        text-align: right;\n",
       "    }\n",
       "</style>\n",
       "<table border=\"1\" class=\"dataframe\">\n",
       "  <thead>\n",
       "    <tr style=\"text-align: right;\">\n",
       "      <th></th>\n",
       "      <th>MAP</th>\n",
       "      <th>Model with Ouliers</th>\n",
       "      <th>P10</th>\n",
       "    </tr>\n",
       "  </thead>\n",
       "  <tbody>\n",
       "    <tr>\n",
       "      <th>1</th>\n",
       "      <td>0.097311</td>\n",
       "      <td>StandardAnalyzer@ClassicSimilarity</td>\n",
       "      <td>0.168421</td>\n",
       "    </tr>\n",
       "    <tr>\n",
       "      <th>3</th>\n",
       "      <td>0.105000</td>\n",
       "      <td>StandardAnalyzer@BM25(k1=1.2,b=0.75)</td>\n",
       "      <td>0.152381</td>\n",
       "    </tr>\n",
       "    <tr>\n",
       "      <th>4</th>\n",
       "      <td>0.071935</td>\n",
       "      <td>StandardAnalyzer@LM Dirichlet(2000.000000)</td>\n",
       "      <td>0.110000</td>\n",
       "    </tr>\n",
       "  </tbody>\n",
       "</table>\n",
       "</div>"
      ],
      "text/plain": [
       "        MAP                          Model with Ouliers       P10\n",
       "1  0.097311          StandardAnalyzer@ClassicSimilarity  0.168421\n",
       "3  0.105000        StandardAnalyzer@BM25(k1=1.2,b=0.75)  0.152381\n",
       "4  0.071935  StandardAnalyzer@LM Dirichlet(2000.000000)  0.110000"
      ]
     },
     "execution_count": 11,
     "metadata": {},
     "output_type": "execute_result"
    }
   ],
   "source": [
    "data_o_sorted_P10.loc[data_o_sorted_P10.isin(models)[\"Model with Ouliers\"]]"
   ]
  },
  {
   "cell_type": "code",
   "execution_count": 12,
   "metadata": {},
   "outputs": [
    {
     "data": {
      "text/html": [
       "<div>\n",
       "<style scoped>\n",
       "    .dataframe tbody tr th:only-of-type {\n",
       "        vertical-align: middle;\n",
       "    }\n",
       "\n",
       "    .dataframe tbody tr th {\n",
       "        vertical-align: top;\n",
       "    }\n",
       "\n",
       "    .dataframe thead th {\n",
       "        text-align: right;\n",
       "    }\n",
       "</style>\n",
       "<table border=\"1\" class=\"dataframe\">\n",
       "  <thead>\n",
       "    <tr style=\"text-align: right;\">\n",
       "      <th></th>\n",
       "      <th>MAP</th>\n",
       "      <th>Model</th>\n",
       "      <th>P10</th>\n",
       "    </tr>\n",
       "  </thead>\n",
       "  <tbody>\n",
       "    <tr>\n",
       "      <th>2</th>\n",
       "      <td>0.0725</td>\n",
       "      <td>StandardAnalyzer@BM25(k1=1.2,b=0.75)</td>\n",
       "      <td>0.1065</td>\n",
       "    </tr>\n",
       "    <tr>\n",
       "      <th>3</th>\n",
       "      <td>0.0612</td>\n",
       "      <td>StandardAnalyzer@ClassicSimilarity</td>\n",
       "      <td>0.1032</td>\n",
       "    </tr>\n",
       "    <tr>\n",
       "      <th>4</th>\n",
       "      <td>0.0473</td>\n",
       "      <td>StandardAnalyzer@LM Dirichlet(2000.000000)</td>\n",
       "      <td>0.0742</td>\n",
       "    </tr>\n",
       "  </tbody>\n",
       "</table>\n",
       "</div>"
      ],
      "text/plain": [
       "      MAP                                       Model     P10\n",
       "2  0.0725        StandardAnalyzer@BM25(k1=1.2,b=0.75)  0.1065\n",
       "3  0.0612          StandardAnalyzer@ClassicSimilarity  0.1032\n",
       "4  0.0473  StandardAnalyzer@LM Dirichlet(2000.000000)  0.0742"
      ]
     },
     "execution_count": 12,
     "metadata": {},
     "output_type": "execute_result"
    }
   ],
   "source": [
    "data_sorted_Map.loc[data_sorted_Map.isin(models)[\"Model\"]]"
   ]
  },
  {
   "cell_type": "code",
   "execution_count": 13,
   "metadata": {},
   "outputs": [
    {
     "data": {
      "text/html": [
       "<div>\n",
       "<style scoped>\n",
       "    .dataframe tbody tr th:only-of-type {\n",
       "        vertical-align: middle;\n",
       "    }\n",
       "\n",
       "    .dataframe tbody tr th {\n",
       "        vertical-align: top;\n",
       "    }\n",
       "\n",
       "    .dataframe thead th {\n",
       "        text-align: right;\n",
       "    }\n",
       "</style>\n",
       "<table border=\"1\" class=\"dataframe\">\n",
       "  <thead>\n",
       "    <tr style=\"text-align: right;\">\n",
       "      <th></th>\n",
       "      <th>MAP</th>\n",
       "      <th>Model with Ouliers</th>\n",
       "      <th>P10</th>\n",
       "    </tr>\n",
       "  </thead>\n",
       "  <tbody>\n",
       "    <tr>\n",
       "      <th>2</th>\n",
       "      <td>0.105000</td>\n",
       "      <td>StandardAnalyzer@BM25(k1=1.2,b=0.75)</td>\n",
       "      <td>0.152381</td>\n",
       "    </tr>\n",
       "    <tr>\n",
       "      <th>3</th>\n",
       "      <td>0.097311</td>\n",
       "      <td>StandardAnalyzer@ClassicSimilarity</td>\n",
       "      <td>0.168421</td>\n",
       "    </tr>\n",
       "    <tr>\n",
       "      <th>4</th>\n",
       "      <td>0.071935</td>\n",
       "      <td>StandardAnalyzer@LM Dirichlet(2000.000000)</td>\n",
       "      <td>0.110000</td>\n",
       "    </tr>\n",
       "  </tbody>\n",
       "</table>\n",
       "</div>"
      ],
      "text/plain": [
       "        MAP                          Model with Ouliers       P10\n",
       "2  0.105000        StandardAnalyzer@BM25(k1=1.2,b=0.75)  0.152381\n",
       "3  0.097311          StandardAnalyzer@ClassicSimilarity  0.168421\n",
       "4  0.071935  StandardAnalyzer@LM Dirichlet(2000.000000)  0.110000"
      ]
     },
     "execution_count": 13,
     "metadata": {},
     "output_type": "execute_result"
    }
   ],
   "source": [
    "data_o_sorted_Map.loc[data_o_sorted_Map.isin(models)[\"Model with Ouliers\"]]"
   ]
  }
 ],
 "metadata": {
  "kernelspec": {
   "display_name": "Python 3",
   "language": "python",
   "name": "python3"
  },
  "language_info": {
   "codemirror_mode": {
    "name": "ipython",
    "version": 3
   },
   "file_extension": ".py",
   "mimetype": "text/x-python",
   "name": "python",
   "nbconvert_exporter": "python",
   "pygments_lexer": "ipython3",
   "version": "3.6.4"
  }
 },
 "nbformat": 4,
 "nbformat_minor": 2
}
