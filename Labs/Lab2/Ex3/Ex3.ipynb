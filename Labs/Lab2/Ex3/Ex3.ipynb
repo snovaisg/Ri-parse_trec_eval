{
 "cells": [
  {
   "cell_type": "code",
   "execution_count": 2,
   "metadata": {},
   "outputs": [],
   "source": [
    "import pandas as pd\n",
    "import os\n",
    "import utils"
   ]
  },
  {
   "cell_type": "markdown",
   "metadata": {},
   "source": [
    "## files"
   ]
  },
  {
   "cell_type": "code",
   "execution_count": 3,
   "metadata": {},
   "outputs": [
    {
     "data": {
      "text/plain": [
       "['data_o_sorted_P10.csv',\n",
       " 'data_o_sorted_Map.csv',\n",
       " 'data.csv',\n",
       " 'data_sorted_Map.csv',\n",
       " 'data_o.csv',\n",
       " 'data_sorted_P10.csv']"
      ]
     },
     "execution_count": 3,
     "metadata": {},
     "output_type": "execute_result"
    }
   ],
   "source": [
    "path = \"../../../Results/Lab2_Ex3/\"\n",
    "files = [file for file in os.listdir(path) if file[0] != '.']\n",
    "files"
   ]
  },
  {
   "cell_type": "markdown",
   "metadata": {},
   "source": [
    "## fetch dataFrames"
   ]
  },
  {
   "cell_type": "code",
   "execution_count": 4,
   "metadata": {},
   "outputs": [],
   "source": [
    "data,data_o,data_sorted_P10,data_o_sorted_P10,data_sorted_Map,data_o_sorted_Map = utils.read_results(path)"
   ]
  },
  {
   "cell_type": "code",
   "execution_count": 7,
   "metadata": {},
   "outputs": [],
   "source": [
    "data_sorted_Map[\"Model\"] = data_sorted_Map[\"Model\"].apply(lambda x: x[x.find(\"BM25\"):x.find(\"}\")]) "
   ]
  },
  {
   "cell_type": "code",
   "execution_count": 20,
   "metadata": {},
   "outputs": [
    {
     "data": {
      "text/html": [
       "<div>\n",
       "<style scoped>\n",
       "    .dataframe tbody tr th:only-of-type {\n",
       "        vertical-align: middle;\n",
       "    }\n",
       "\n",
       "    .dataframe tbody tr th {\n",
       "        vertical-align: top;\n",
       "    }\n",
       "\n",
       "    .dataframe thead th {\n",
       "        text-align: right;\n",
       "    }\n",
       "</style>\n",
       "<table border=\"1\" class=\"dataframe\">\n",
       "  <thead>\n",
       "    <tr style=\"text-align: right;\">\n",
       "      <th></th>\n",
       "      <th>MAP</th>\n",
       "      <th>Model</th>\n",
       "      <th>P10</th>\n",
       "    </tr>\n",
       "  </thead>\n",
       "  <tbody>\n",
       "    <tr>\n",
       "      <th>0</th>\n",
       "      <td>0.0724</td>\n",
       "      <td>{StandardBM25(k1=1.25,b=1.0)}</td>\n",
       "      <td>0.1194</td>\n",
       "    </tr>\n",
       "    <tr>\n",
       "      <th>1</th>\n",
       "      <td>0.0717</td>\n",
       "      <td>{StandardBM25(k1=1.5,b=1.0)}</td>\n",
       "      <td>0.1194</td>\n",
       "    </tr>\n",
       "    <tr>\n",
       "      <th>2</th>\n",
       "      <td>0.0701</td>\n",
       "      <td>{StandardBM25(k1=2.0,b=1.0)}</td>\n",
       "      <td>0.1194</td>\n",
       "    </tr>\n",
       "    <tr>\n",
       "      <th>3</th>\n",
       "      <td>0.0696</td>\n",
       "      <td>{StandardBM25(k1=1.0,b=1.0)}</td>\n",
       "      <td>0.1129</td>\n",
       "    </tr>\n",
       "    <tr>\n",
       "      <th>4</th>\n",
       "      <td>0.0710</td>\n",
       "      <td>{StandardBM25(k1=2.0,b=0.75)}</td>\n",
       "      <td>0.1129</td>\n",
       "    </tr>\n",
       "  </tbody>\n",
       "</table>\n",
       "</div>"
      ],
      "text/plain": [
       "      MAP                          Model     P10\n",
       "0  0.0724  {StandardBM25(k1=1.25,b=1.0)}  0.1194\n",
       "1  0.0717   {StandardBM25(k1=1.5,b=1.0)}  0.1194\n",
       "2  0.0701   {StandardBM25(k1=2.0,b=1.0)}  0.1194\n",
       "3  0.0696   {StandardBM25(k1=1.0,b=1.0)}  0.1129\n",
       "4  0.0710  {StandardBM25(k1=2.0,b=0.75)}  0.1129"
      ]
     },
     "execution_count": 20,
     "metadata": {},
     "output_type": "execute_result"
    }
   ],
   "source": [
    "data_sorted_P10.head(5)"
   ]
  },
  {
   "cell_type": "code",
   "execution_count": 21,
   "metadata": {},
   "outputs": [
    {
     "data": {
      "text/html": [
       "<div>\n",
       "<style scoped>\n",
       "    .dataframe tbody tr th:only-of-type {\n",
       "        vertical-align: middle;\n",
       "    }\n",
       "\n",
       "    .dataframe tbody tr th {\n",
       "        vertical-align: top;\n",
       "    }\n",
       "\n",
       "    .dataframe thead th {\n",
       "        text-align: right;\n",
       "    }\n",
       "</style>\n",
       "<table border=\"1\" class=\"dataframe\">\n",
       "  <thead>\n",
       "    <tr style=\"text-align: right;\">\n",
       "      <th></th>\n",
       "      <th>MAP</th>\n",
       "      <th>Model with Ouliers</th>\n",
       "      <th>P10</th>\n",
       "    </tr>\n",
       "  </thead>\n",
       "  <tbody>\n",
       "    <tr>\n",
       "      <th>0</th>\n",
       "      <td>0.108945</td>\n",
       "      <td>{StandardBM25(k1=1.25,b=1.0)}</td>\n",
       "      <td>0.185000</td>\n",
       "    </tr>\n",
       "    <tr>\n",
       "      <th>1</th>\n",
       "      <td>0.107900</td>\n",
       "      <td>{StandardBM25(k1=1.5,b=1.0)}</td>\n",
       "      <td>0.185000</td>\n",
       "    </tr>\n",
       "    <tr>\n",
       "      <th>2</th>\n",
       "      <td>0.105540</td>\n",
       "      <td>{StandardBM25(k1=2.0,b=1.0)}</td>\n",
       "      <td>0.185000</td>\n",
       "    </tr>\n",
       "    <tr>\n",
       "      <th>3</th>\n",
       "      <td>0.100810</td>\n",
       "      <td>{StandardBM25(k1=1.0,b=1.0)}</td>\n",
       "      <td>0.166667</td>\n",
       "    </tr>\n",
       "    <tr>\n",
       "      <th>4</th>\n",
       "      <td>0.102600</td>\n",
       "      <td>{StandardBM25(k1=2.0,b=0.75)}</td>\n",
       "      <td>0.161905</td>\n",
       "    </tr>\n",
       "  </tbody>\n",
       "</table>\n",
       "</div>"
      ],
      "text/plain": [
       "        MAP             Model with Ouliers       P10\n",
       "0  0.108945  {StandardBM25(k1=1.25,b=1.0)}  0.185000\n",
       "1  0.107900   {StandardBM25(k1=1.5,b=1.0)}  0.185000\n",
       "2  0.105540   {StandardBM25(k1=2.0,b=1.0)}  0.185000\n",
       "3  0.100810   {StandardBM25(k1=1.0,b=1.0)}  0.166667\n",
       "4  0.102600  {StandardBM25(k1=2.0,b=0.75)}  0.161905"
      ]
     },
     "execution_count": 21,
     "metadata": {},
     "output_type": "execute_result"
    }
   ],
   "source": [
    "data_o_sorted_P10.head(5)"
   ]
  },
  {
   "cell_type": "code",
   "execution_count": 8,
   "metadata": {},
   "outputs": [
    {
     "data": {
      "text/html": [
       "<div>\n",
       "<style scoped>\n",
       "    .dataframe tbody tr th:only-of-type {\n",
       "        vertical-align: middle;\n",
       "    }\n",
       "\n",
       "    .dataframe tbody tr th {\n",
       "        vertical-align: top;\n",
       "    }\n",
       "\n",
       "    .dataframe thead th {\n",
       "        text-align: right;\n",
       "    }\n",
       "</style>\n",
       "<table border=\"1\" class=\"dataframe\">\n",
       "  <thead>\n",
       "    <tr style=\"text-align: right;\">\n",
       "      <th></th>\n",
       "      <th>MAP</th>\n",
       "      <th>Model</th>\n",
       "      <th>P10</th>\n",
       "    </tr>\n",
       "  </thead>\n",
       "  <tbody>\n",
       "    <tr>\n",
       "      <th>0</th>\n",
       "      <td>0.0738</td>\n",
       "      <td>BM25(k1=2.0,b=0.5)</td>\n",
       "      <td>0.1065</td>\n",
       "    </tr>\n",
       "    <tr>\n",
       "      <th>1</th>\n",
       "      <td>0.0730</td>\n",
       "      <td>BM25(k1=1.5,b=0.5)</td>\n",
       "      <td>0.1032</td>\n",
       "    </tr>\n",
       "    <tr>\n",
       "      <th>2</th>\n",
       "      <td>0.0727</td>\n",
       "      <td>BM25(k1=1.25,b=0.75)</td>\n",
       "      <td>0.1065</td>\n",
       "    </tr>\n",
       "    <tr>\n",
       "      <th>3</th>\n",
       "      <td>0.0724</td>\n",
       "      <td>BM25(k1=1.25,b=1.0)</td>\n",
       "      <td>0.1194</td>\n",
       "    </tr>\n",
       "    <tr>\n",
       "      <th>4</th>\n",
       "      <td>0.0722</td>\n",
       "      <td>BM25(k1=1.5,b=0.75)</td>\n",
       "      <td>0.1097</td>\n",
       "    </tr>\n",
       "  </tbody>\n",
       "</table>\n",
       "</div>"
      ],
      "text/plain": [
       "      MAP                 Model     P10\n",
       "0  0.0738    BM25(k1=2.0,b=0.5)  0.1065\n",
       "1  0.0730    BM25(k1=1.5,b=0.5)  0.1032\n",
       "2  0.0727  BM25(k1=1.25,b=0.75)  0.1065\n",
       "3  0.0724   BM25(k1=1.25,b=1.0)  0.1194\n",
       "4  0.0722   BM25(k1=1.5,b=0.75)  0.1097"
      ]
     },
     "execution_count": 8,
     "metadata": {},
     "output_type": "execute_result"
    }
   ],
   "source": [
    "data_sorted_Map.head(5)"
   ]
  },
  {
   "cell_type": "code",
   "execution_count": null,
   "metadata": {},
   "outputs": [],
   "source": []
  },
  {
   "cell_type": "code",
   "execution_count": 23,
   "metadata": {},
   "outputs": [
    {
     "data": {
      "text/html": [
       "<div>\n",
       "<style scoped>\n",
       "    .dataframe tbody tr th:only-of-type {\n",
       "        vertical-align: middle;\n",
       "    }\n",
       "\n",
       "    .dataframe tbody tr th {\n",
       "        vertical-align: top;\n",
       "    }\n",
       "\n",
       "    .dataframe thead th {\n",
       "        text-align: right;\n",
       "    }\n",
       "</style>\n",
       "<table border=\"1\" class=\"dataframe\">\n",
       "  <thead>\n",
       "    <tr style=\"text-align: right;\">\n",
       "      <th></th>\n",
       "      <th>MAP</th>\n",
       "      <th>Model with Ouliers</th>\n",
       "      <th>P10</th>\n",
       "    </tr>\n",
       "  </thead>\n",
       "  <tbody>\n",
       "    <tr>\n",
       "      <th>0</th>\n",
       "      <td>0.108945</td>\n",
       "      <td>{StandardBM25(k1=1.25,b=1.0)}</td>\n",
       "      <td>0.185000</td>\n",
       "    </tr>\n",
       "    <tr>\n",
       "      <th>1</th>\n",
       "      <td>0.108540</td>\n",
       "      <td>{StandardBM25(k1=1.25,b=0.5)}</td>\n",
       "      <td>0.155000</td>\n",
       "    </tr>\n",
       "    <tr>\n",
       "      <th>2</th>\n",
       "      <td>0.107900</td>\n",
       "      <td>{StandardBM25(k1=1.5,b=1.0)}</td>\n",
       "      <td>0.185000</td>\n",
       "    </tr>\n",
       "    <tr>\n",
       "      <th>3</th>\n",
       "      <td>0.106143</td>\n",
       "      <td>{StandardBM25(k1=1.5,b=0.5)}</td>\n",
       "      <td>0.152381</td>\n",
       "    </tr>\n",
       "    <tr>\n",
       "      <th>4</th>\n",
       "      <td>0.105540</td>\n",
       "      <td>{StandardBM25(k1=2.0,b=1.0)}</td>\n",
       "      <td>0.185000</td>\n",
       "    </tr>\n",
       "  </tbody>\n",
       "</table>\n",
       "</div>"
      ],
      "text/plain": [
       "        MAP             Model with Ouliers       P10\n",
       "0  0.108945  {StandardBM25(k1=1.25,b=1.0)}  0.185000\n",
       "1  0.108540  {StandardBM25(k1=1.25,b=0.5)}  0.155000\n",
       "2  0.107900   {StandardBM25(k1=1.5,b=1.0)}  0.185000\n",
       "3  0.106143   {StandardBM25(k1=1.5,b=0.5)}  0.152381\n",
       "4  0.105540   {StandardBM25(k1=2.0,b=1.0)}  0.185000"
      ]
     },
     "execution_count": 23,
     "metadata": {},
     "output_type": "execute_result"
    }
   ],
   "source": [
    "data_o_sorted_Map.head(5)"
   ]
  },
  {
   "cell_type": "code",
   "execution_count": null,
   "metadata": {},
   "outputs": [],
   "source": []
  }
 ],
 "metadata": {
  "kernelspec": {
   "display_name": "Python 3",
   "language": "python",
   "name": "python3"
  },
  "language_info": {
   "codemirror_mode": {
    "name": "ipython",
    "version": 3
   },
   "file_extension": ".py",
   "mimetype": "text/x-python",
   "name": "python",
   "nbconvert_exporter": "python",
   "pygments_lexer": "ipython3",
   "version": "3.6.4"
  }
 },
 "nbformat": 4,
 "nbformat_minor": 2
}
