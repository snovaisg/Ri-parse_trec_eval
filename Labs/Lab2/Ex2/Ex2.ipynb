{
 "cells": [
  {
   "cell_type": "code",
   "execution_count": 50,
   "metadata": {},
   "outputs": [],
   "source": [
    "import pandas as pd\n",
    "import os\n",
    "import utils\n",
    "import matplotlib.pyplot as plt\n",
    "import numpy as np"
   ]
  },
  {
   "cell_type": "markdown",
   "metadata": {},
   "source": [
    "## files"
   ]
  },
  {
   "cell_type": "code",
   "execution_count": 2,
   "metadata": {},
   "outputs": [
    {
     "data": {
      "text/plain": [
       "['data_o_sorted_P10.csv',\n",
       " 'data_o_sorted_Map.csv',\n",
       " 'data.csv',\n",
       " 'data_sorted_Map.csv',\n",
       " 'data_o.csv',\n",
       " 'data_sorted_P10.csv']"
      ]
     },
     "execution_count": 2,
     "metadata": {},
     "output_type": "execute_result"
    }
   ],
   "source": [
    "path = \"../../../Results/Lab2_Ex2/\"\n",
    "files = [file for file in os.listdir(path) if file[0] != '.']\n",
    "files"
   ]
  },
  {
   "cell_type": "markdown",
   "metadata": {},
   "source": [
    "## fetch dataFrames"
   ]
  },
  {
   "cell_type": "code",
   "execution_count": 3,
   "metadata": {},
   "outputs": [],
   "source": [
    "data,data_o,data_sorted_P10,data_o_sorted_P10,data_sorted_Map,data_o_sorted_Map = utils.read_results(path)"
   ]
  },
  {
   "cell_type": "code",
   "execution_count": 10,
   "metadata": {},
   "outputs": [],
   "source": [
    "data_sorted_P10[\"Model\"] = data_sorted_P10[\"Model\"].apply(lambda x: x[x.find(\"Diri\"):])\n",
    "data_sorted_Map[\"Model\"] = data_sorted_Map[\"Model\"].apply(lambda x: x[x.find(\"Diri\"):])"
   ]
  },
  {
   "cell_type": "code",
   "execution_count": 14,
   "metadata": {},
   "outputs": [
    {
     "data": {
      "text/html": [
       "<div>\n",
       "<style scoped>\n",
       "    .dataframe tbody tr th:only-of-type {\n",
       "        vertical-align: middle;\n",
       "    }\n",
       "\n",
       "    .dataframe tbody tr th {\n",
       "        vertical-align: top;\n",
       "    }\n",
       "\n",
       "    .dataframe thead th {\n",
       "        text-align: right;\n",
       "    }\n",
       "</style>\n",
       "<table border=\"1\" class=\"dataframe\">\n",
       "  <thead>\n",
       "    <tr style=\"text-align: right;\">\n",
       "      <th></th>\n",
       "      <th>MAP</th>\n",
       "      <th>Model</th>\n",
       "      <th>P10</th>\n",
       "    </tr>\n",
       "  </thead>\n",
       "  <tbody>\n",
       "    <tr>\n",
       "      <th>0</th>\n",
       "      <td>0.0596</td>\n",
       "      <td>Dirichlet(100.000000)Standard}</td>\n",
       "      <td>0.1000</td>\n",
       "    </tr>\n",
       "    <tr>\n",
       "      <th>1</th>\n",
       "      <td>0.0595</td>\n",
       "      <td>Dirichlet(89.000000)Standard}</td>\n",
       "      <td>0.1000</td>\n",
       "    </tr>\n",
       "    <tr>\n",
       "      <th>2</th>\n",
       "      <td>0.0594</td>\n",
       "      <td>Dirichlet(130.000000)Standard}</td>\n",
       "      <td>0.0935</td>\n",
       "    </tr>\n",
       "    <tr>\n",
       "      <th>3</th>\n",
       "      <td>0.0594</td>\n",
       "      <td>Dirichlet(90.000000)Standard}</td>\n",
       "      <td>0.1000</td>\n",
       "    </tr>\n",
       "    <tr>\n",
       "      <th>4</th>\n",
       "      <td>0.0593</td>\n",
       "      <td>Dirichlet(70.000000)Standard}</td>\n",
       "      <td>0.0968</td>\n",
       "    </tr>\n",
       "    <tr>\n",
       "      <th>5</th>\n",
       "      <td>0.0592</td>\n",
       "      <td>Dirichlet(120.000000)Standard}</td>\n",
       "      <td>0.0968</td>\n",
       "    </tr>\n",
       "    <tr>\n",
       "      <th>6</th>\n",
       "      <td>0.0589</td>\n",
       "      <td>Dirichlet(50.000000)Standard}</td>\n",
       "      <td>0.0935</td>\n",
       "    </tr>\n",
       "    <tr>\n",
       "      <th>7</th>\n",
       "      <td>0.0586</td>\n",
       "      <td>Dirichlet(60.000000)Standard}</td>\n",
       "      <td>0.0968</td>\n",
       "    </tr>\n",
       "    <tr>\n",
       "      <th>8</th>\n",
       "      <td>0.0576</td>\n",
       "      <td>Dirichlet(150.000000)Standard}</td>\n",
       "      <td>0.0935</td>\n",
       "    </tr>\n",
       "    <tr>\n",
       "      <th>9</th>\n",
       "      <td>0.0573</td>\n",
       "      <td>Dirichlet(177.000000)Standard}</td>\n",
       "      <td>0.0935</td>\n",
       "    </tr>\n",
       "    <tr>\n",
       "      <th>10</th>\n",
       "      <td>0.0572</td>\n",
       "      <td>Dirichlet(200.000000)Standard}</td>\n",
       "      <td>0.0935</td>\n",
       "    </tr>\n",
       "    <tr>\n",
       "      <th>11</th>\n",
       "      <td>0.0571</td>\n",
       "      <td>Dirichlet(10.000000)Standard}</td>\n",
       "      <td>0.1000</td>\n",
       "    </tr>\n",
       "    <tr>\n",
       "      <th>12</th>\n",
       "      <td>0.0450</td>\n",
       "      <td>Dirichlet(2000.000000)Standard}</td>\n",
       "      <td>0.0742</td>\n",
       "    </tr>\n",
       "    <tr>\n",
       "      <th>13</th>\n",
       "      <td>0.0436</td>\n",
       "      <td>Dirichlet(2500.000000)Standard}</td>\n",
       "      <td>0.0710</td>\n",
       "    </tr>\n",
       "    <tr>\n",
       "      <th>14</th>\n",
       "      <td>0.0431</td>\n",
       "      <td>Dirichlet(3000.000000)Standard}</td>\n",
       "      <td>0.0677</td>\n",
       "    </tr>\n",
       "    <tr>\n",
       "      <th>15</th>\n",
       "      <td>0.0425</td>\n",
       "      <td>Dirichlet(4000.000000)Standard}</td>\n",
       "      <td>0.0710</td>\n",
       "    </tr>\n",
       "    <tr>\n",
       "      <th>16</th>\n",
       "      <td>0.0425</td>\n",
       "      <td>Dirichlet(3500.000000)Standard}</td>\n",
       "      <td>0.0710</td>\n",
       "    </tr>\n",
       "    <tr>\n",
       "      <th>17</th>\n",
       "      <td>0.0422</td>\n",
       "      <td>Dirichlet(4500.000000)Standard}</td>\n",
       "      <td>0.0677</td>\n",
       "    </tr>\n",
       "    <tr>\n",
       "      <th>18</th>\n",
       "      <td>0.0398</td>\n",
       "      <td>Dirichlet(5000.000000)Standard}</td>\n",
       "      <td>0.0677</td>\n",
       "    </tr>\n",
       "  </tbody>\n",
       "</table>\n",
       "</div>"
      ],
      "text/plain": [
       "       MAP                            Model     P10\n",
       "0   0.0596   Dirichlet(100.000000)Standard}  0.1000\n",
       "1   0.0595    Dirichlet(89.000000)Standard}  0.1000\n",
       "2   0.0594   Dirichlet(130.000000)Standard}  0.0935\n",
       "3   0.0594    Dirichlet(90.000000)Standard}  0.1000\n",
       "4   0.0593    Dirichlet(70.000000)Standard}  0.0968\n",
       "5   0.0592   Dirichlet(120.000000)Standard}  0.0968\n",
       "6   0.0589    Dirichlet(50.000000)Standard}  0.0935\n",
       "7   0.0586    Dirichlet(60.000000)Standard}  0.0968\n",
       "8   0.0576   Dirichlet(150.000000)Standard}  0.0935\n",
       "9   0.0573   Dirichlet(177.000000)Standard}  0.0935\n",
       "10  0.0572   Dirichlet(200.000000)Standard}  0.0935\n",
       "11  0.0571    Dirichlet(10.000000)Standard}  0.1000\n",
       "12  0.0450  Dirichlet(2000.000000)Standard}  0.0742\n",
       "13  0.0436  Dirichlet(2500.000000)Standard}  0.0710\n",
       "14  0.0431  Dirichlet(3000.000000)Standard}  0.0677\n",
       "15  0.0425  Dirichlet(4000.000000)Standard}  0.0710\n",
       "16  0.0425  Dirichlet(3500.000000)Standard}  0.0710\n",
       "17  0.0422  Dirichlet(4500.000000)Standard}  0.0677\n",
       "18  0.0398  Dirichlet(5000.000000)Standard}  0.0677"
      ]
     },
     "execution_count": 14,
     "metadata": {},
     "output_type": "execute_result"
    }
   ],
   "source": [
    "data_sorted_Map.head(20)"
   ]
  },
  {
   "cell_type": "code",
   "execution_count": 30,
   "metadata": {},
   "outputs": [],
   "source": [
    "x = data_sorted_Map[\"Model\"].apply(lambda x: x[x.find(\"(\")+1:x.find(\"Standard\")-1]).apply(lambda x:int(float(x))).sort_values()"
   ]
  },
  {
   "cell_type": "code",
   "execution_count": 46,
   "metadata": {},
   "outputs": [],
   "source": [
    "y = data_sorted_Map.loc[x.index].MAP"
   ]
  },
  {
   "cell_type": "code",
   "execution_count": 43,
   "metadata": {},
   "outputs": [
    {
     "data": {
      "text/plain": [
       "(19,)"
      ]
     },
     "execution_count": 43,
     "metadata": {},
     "output_type": "execute_result"
    }
   ],
   "source": [
    "x.shape"
   ]
  },
  {
   "cell_type": "code",
   "execution_count": 53,
   "metadata": {},
   "outputs": [
    {
     "data": {
      "text/plain": [
       "[<matplotlib.lines.Line2D at 0x11053c5f8>]"
      ]
     },
     "execution_count": 53,
     "metadata": {},
     "output_type": "execute_result"
    },
    {
     "data": {
      "image/png": "[encoded data removed]",
      "text/plain": [
       "<matplotlib.figure.Figure at 0x1103fd160>"
      ]
     },
     "metadata": {},
     "output_type": "display_data"
    }
   ],
   "source": [
    "plt.figure(figsize=(8,8))\n",
    "plt.plot(x,y)\n",
    "plt.xlabel="
   ]
  },
  {
   "cell_type": "code",
   "execution_count": 57,
   "metadata": {},
   "outputs": [
    {
     "data": {
      "text/plain": [
       "[<matplotlib.lines.Line2D at 0x110b37630>]"
      ]
     },
     "execution_count": 57,
     "metadata": {},
     "output_type": "execute_result"
    },
    {
     "data": {
      "image/png": "[encoded data removed]",
      "text/plain": [
       "<matplotlib.figure.Figure at 0x110a111d0>"
      ]
     },
     "metadata": {},
     "output_type": "display_data"
    }
   ],
   "source": [
    "points = 10\n",
    "plt.plot(x[:points],y[:points])"
   ]
  },
  {
   "cell_type": "code",
   "execution_count": null,
   "metadata": {},
   "outputs": [],
   "source": []
  }
 ],
 "metadata": {
  "kernelspec": {
   "display_name": "Python 3",
   "language": "python",
   "name": "python3"
  },
  "language_info": {
   "codemirror_mode": {
    "name": "ipython",
    "version": 3
   },
   "file_extension": ".py",
   "mimetype": "text/x-python",
   "name": "python",
   "nbconvert_exporter": "python",
   "pygments_lexer": "ipython3",
   "version": "3.6.4"
  }
 },
 "nbformat": 4,
 "nbformat_minor": 2
}
