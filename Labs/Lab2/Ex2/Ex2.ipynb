{
 "cells": [
  {
   "cell_type": "code",
   "execution_count": 2,
   "metadata": {},
   "outputs": [],
   "source": [
    "import pandas as pd\n",
    "import os\n",
    "import utils"
   ]
  },
  {
   "cell_type": "markdown",
   "metadata": {},
   "source": [
    "## files"
   ]
  },
  {
   "cell_type": "code",
   "execution_count": 3,
   "metadata": {},
   "outputs": [
    {
     "data": {
      "text/plain": [
       "['data_o_sorted_P10.csv',\n",
       " 'data_o_sorted_Map.csv',\n",
       " 'data.csv',\n",
       " 'data_sorted_Map.csv',\n",
       " 'data_o.csv',\n",
       " 'data_sorted_P10.csv']"
      ]
     },
     "execution_count": 3,
     "metadata": {},
     "output_type": "execute_result"
    }
   ],
   "source": [
    "path = \"../../../Results/Lab2_Ex2/\"\n",
    "files = [file for file in os.listdir(path) if file[0] != '.']\n",
    "files"
   ]
  },
  {
   "cell_type": "markdown",
   "metadata": {},
   "source": [
    "## fetch dataFrames"
   ]
  },
  {
   "cell_type": "code",
   "execution_count": 4,
   "metadata": {},
   "outputs": [],
   "source": [
    "data,data_o,data_sorted_P10,data_o_sorted_P10,data_sorted_Map,data_o_sorted_Map = utils.read_results(path)"
   ]
  },
  {
   "cell_type": "code",
   "execution_count": 16,
   "metadata": {},
   "outputs": [],
   "source": [
    "data_sorted_P10[\"Model\"] = data_sorted_P10[\"Model\"].apply(lambda x: x[x.find(\"Diri\"):])"
   ]
  },
  {
   "cell_type": "code",
   "execution_count": 17,
   "metadata": {},
   "outputs": [
    {
     "data": {
      "text/html": [
       "<div>\n",
       "<style scoped>\n",
       "    .dataframe tbody tr th:only-of-type {\n",
       "        vertical-align: middle;\n",
       "    }\n",
       "\n",
       "    .dataframe tbody tr th {\n",
       "        vertical-align: top;\n",
       "    }\n",
       "\n",
       "    .dataframe thead th {\n",
       "        text-align: right;\n",
       "    }\n",
       "</style>\n",
       "<table border=\"1\" class=\"dataframe\">\n",
       "  <thead>\n",
       "    <tr style=\"text-align: right;\">\n",
       "      <th></th>\n",
       "      <th>MAP</th>\n",
       "      <th>Model</th>\n",
       "      <th>P10</th>\n",
       "    </tr>\n",
       "  </thead>\n",
       "  <tbody>\n",
       "    <tr>\n",
       "      <th>0</th>\n",
       "      <td>0.0786</td>\n",
       "      <td>Dirichlet(10.000000)Shingle{1}}</td>\n",
       "      <td>0.1032</td>\n",
       "    </tr>\n",
       "    <tr>\n",
       "      <th>1</th>\n",
       "      <td>0.0790</td>\n",
       "      <td>Dirichlet(10.000000)Shingle{0}}</td>\n",
       "      <td>0.1000</td>\n",
       "    </tr>\n",
       "    <tr>\n",
       "      <th>2</th>\n",
       "      <td>0.0795</td>\n",
       "      <td>Dirichlet(100.000000)Shingle{2}}</td>\n",
       "      <td>0.1000</td>\n",
       "    </tr>\n",
       "    <tr>\n",
       "      <th>3</th>\n",
       "      <td>0.0805</td>\n",
       "      <td>Dirichlet(10.000000)Shingle{3}}</td>\n",
       "      <td>0.1000</td>\n",
       "    </tr>\n",
       "    <tr>\n",
       "      <th>4</th>\n",
       "      <td>0.0765</td>\n",
       "      <td>Dirichlet(100.000000)Shingle{1}}</td>\n",
       "      <td>0.1000</td>\n",
       "    </tr>\n",
       "  </tbody>\n",
       "</table>\n",
       "</div>"
      ],
      "text/plain": [
       "      MAP                             Model     P10\n",
       "0  0.0786   Dirichlet(10.000000)Shingle{1}}  0.1032\n",
       "1  0.0790   Dirichlet(10.000000)Shingle{0}}  0.1000\n",
       "2  0.0795  Dirichlet(100.000000)Shingle{2}}  0.1000\n",
       "3  0.0805   Dirichlet(10.000000)Shingle{3}}  0.1000\n",
       "4  0.0765  Dirichlet(100.000000)Shingle{1}}  0.1000"
      ]
     },
     "execution_count": 17,
     "metadata": {},
     "output_type": "execute_result"
    }
   ],
   "source": [
    "data_sorted_P10.head(5)"
   ]
  },
  {
   "cell_type": "code",
   "execution_count": 6,
   "metadata": {},
   "outputs": [
    {
     "data": {
      "text/html": [
       "<div>\n",
       "<style scoped>\n",
       "    .dataframe tbody tr th:only-of-type {\n",
       "        vertical-align: middle;\n",
       "    }\n",
       "\n",
       "    .dataframe tbody tr th {\n",
       "        vertical-align: top;\n",
       "    }\n",
       "\n",
       "    .dataframe thead th {\n",
       "        text-align: right;\n",
       "    }\n",
       "</style>\n",
       "<table border=\"1\" class=\"dataframe\">\n",
       "  <thead>\n",
       "    <tr style=\"text-align: right;\">\n",
       "      <th></th>\n",
       "      <th>MAP</th>\n",
       "      <th>Model with Ouliers</th>\n",
       "      <th>P10</th>\n",
       "    </tr>\n",
       "  </thead>\n",
       "  <tbody>\n",
       "    <tr>\n",
       "      <th>0</th>\n",
       "      <td>0.109382</td>\n",
       "      <td>{org.novasearch.tutorials.labs2018.Lab2_Analys...</td>\n",
       "      <td>0.145455</td>\n",
       "    </tr>\n",
       "    <tr>\n",
       "      <th>1</th>\n",
       "      <td>0.108452</td>\n",
       "      <td>{org.novasearch.tutorials.labs2018.Lab2_Analys...</td>\n",
       "      <td>0.142857</td>\n",
       "    </tr>\n",
       "    <tr>\n",
       "      <th>2</th>\n",
       "      <td>0.109845</td>\n",
       "      <td>{org.novasearch.tutorials.labs2018.Lab2_Analys...</td>\n",
       "      <td>0.140909</td>\n",
       "    </tr>\n",
       "    <tr>\n",
       "      <th>3</th>\n",
       "      <td>0.107443</td>\n",
       "      <td>{org.novasearch.tutorials.labs2018.Lab2_Analys...</td>\n",
       "      <td>0.134783</td>\n",
       "    </tr>\n",
       "    <tr>\n",
       "      <th>4</th>\n",
       "      <td>0.094456</td>\n",
       "      <td>{org.novasearch.tutorials.labs2018.Lab2_Analys...</td>\n",
       "      <td>0.124000</td>\n",
       "    </tr>\n",
       "  </tbody>\n",
       "</table>\n",
       "</div>"
      ],
      "text/plain": [
       "        MAP                                 Model with Ouliers       P10\n",
       "0  0.109382  {org.novasearch.tutorials.labs2018.Lab2_Analys...  0.145455\n",
       "1  0.108452  {org.novasearch.tutorials.labs2018.Lab2_Analys...  0.142857\n",
       "2  0.109845  {org.novasearch.tutorials.labs2018.Lab2_Analys...  0.140909\n",
       "3  0.107443  {org.novasearch.tutorials.labs2018.Lab2_Analys...  0.134783\n",
       "4  0.094456  {org.novasearch.tutorials.labs2018.Lab2_Analys...  0.124000"
      ]
     },
     "execution_count": 6,
     "metadata": {},
     "output_type": "execute_result"
    }
   ],
   "source": [
    "data_o_sorted_P10.head(5)"
   ]
  },
  {
   "cell_type": "code",
   "execution_count": 7,
   "metadata": {},
   "outputs": [
    {
     "data": {
      "text/html": [
       "<div>\n",
       "<style scoped>\n",
       "    .dataframe tbody tr th:only-of-type {\n",
       "        vertical-align: middle;\n",
       "    }\n",
       "\n",
       "    .dataframe tbody tr th {\n",
       "        vertical-align: top;\n",
       "    }\n",
       "\n",
       "    .dataframe thead th {\n",
       "        text-align: right;\n",
       "    }\n",
       "</style>\n",
       "<table border=\"1\" class=\"dataframe\">\n",
       "  <thead>\n",
       "    <tr style=\"text-align: right;\">\n",
       "      <th></th>\n",
       "      <th>MAP</th>\n",
       "      <th>Model</th>\n",
       "      <th>P10</th>\n",
       "    </tr>\n",
       "  </thead>\n",
       "  <tbody>\n",
       "    <tr>\n",
       "      <th>0</th>\n",
       "      <td>0.0805</td>\n",
       "      <td>{org.novasearch.tutorials.labs2018.Lab2_Analys...</td>\n",
       "      <td>0.1000</td>\n",
       "    </tr>\n",
       "    <tr>\n",
       "      <th>1</th>\n",
       "      <td>0.0795</td>\n",
       "      <td>{org.novasearch.tutorials.labs2018.Lab2_Analys...</td>\n",
       "      <td>0.1000</td>\n",
       "    </tr>\n",
       "    <tr>\n",
       "      <th>2</th>\n",
       "      <td>0.0790</td>\n",
       "      <td>{org.novasearch.tutorials.labs2018.Lab2_Analys...</td>\n",
       "      <td>0.1000</td>\n",
       "    </tr>\n",
       "    <tr>\n",
       "      <th>3</th>\n",
       "      <td>0.0786</td>\n",
       "      <td>{org.novasearch.tutorials.labs2018.Lab2_Analys...</td>\n",
       "      <td>0.1032</td>\n",
       "    </tr>\n",
       "    <tr>\n",
       "      <th>4</th>\n",
       "      <td>0.0771</td>\n",
       "      <td>{org.novasearch.tutorials.labs2018.Lab2_Analys...</td>\n",
       "      <td>0.0968</td>\n",
       "    </tr>\n",
       "  </tbody>\n",
       "</table>\n",
       "</div>"
      ],
      "text/plain": [
       "      MAP                                              Model     P10\n",
       "0  0.0805  {org.novasearch.tutorials.labs2018.Lab2_Analys...  0.1000\n",
       "1  0.0795  {org.novasearch.tutorials.labs2018.Lab2_Analys...  0.1000\n",
       "2  0.0790  {org.novasearch.tutorials.labs2018.Lab2_Analys...  0.1000\n",
       "3  0.0786  {org.novasearch.tutorials.labs2018.Lab2_Analys...  0.1032\n",
       "4  0.0771  {org.novasearch.tutorials.labs2018.Lab2_Analys...  0.0968"
      ]
     },
     "execution_count": 7,
     "metadata": {},
     "output_type": "execute_result"
    }
   ],
   "source": [
    "data_sorted_Map.head(5)"
   ]
  },
  {
   "cell_type": "code",
   "execution_count": 8,
   "metadata": {},
   "outputs": [
    {
     "data": {
      "text/html": [
       "<div>\n",
       "<style scoped>\n",
       "    .dataframe tbody tr th:only-of-type {\n",
       "        vertical-align: middle;\n",
       "    }\n",
       "\n",
       "    .dataframe tbody tr th {\n",
       "        vertical-align: top;\n",
       "    }\n",
       "\n",
       "    .dataframe thead th {\n",
       "        text-align: right;\n",
       "    }\n",
       "</style>\n",
       "<table border=\"1\" class=\"dataframe\">\n",
       "  <thead>\n",
       "    <tr style=\"text-align: right;\">\n",
       "      <th></th>\n",
       "      <th>MAP</th>\n",
       "      <th>Model with Ouliers</th>\n",
       "      <th>P10</th>\n",
       "    </tr>\n",
       "  </thead>\n",
       "  <tbody>\n",
       "    <tr>\n",
       "      <th>0</th>\n",
       "      <td>0.109845</td>\n",
       "      <td>{org.novasearch.tutorials.labs2018.Lab2_Analys...</td>\n",
       "      <td>0.140909</td>\n",
       "    </tr>\n",
       "    <tr>\n",
       "      <th>1</th>\n",
       "      <td>0.109382</td>\n",
       "      <td>{org.novasearch.tutorials.labs2018.Lab2_Analys...</td>\n",
       "      <td>0.145455</td>\n",
       "    </tr>\n",
       "    <tr>\n",
       "      <th>2</th>\n",
       "      <td>0.108452</td>\n",
       "      <td>{org.novasearch.tutorials.labs2018.Lab2_Analys...</td>\n",
       "      <td>0.142857</td>\n",
       "    </tr>\n",
       "    <tr>\n",
       "      <th>3</th>\n",
       "      <td>0.107443</td>\n",
       "      <td>{org.novasearch.tutorials.labs2018.Lab2_Analys...</td>\n",
       "      <td>0.134783</td>\n",
       "    </tr>\n",
       "    <tr>\n",
       "      <th>4</th>\n",
       "      <td>0.095072</td>\n",
       "      <td>{org.novasearch.tutorials.labs2018.Lab2_Analys...</td>\n",
       "      <td>0.120000</td>\n",
       "    </tr>\n",
       "  </tbody>\n",
       "</table>\n",
       "</div>"
      ],
      "text/plain": [
       "        MAP                                 Model with Ouliers       P10\n",
       "0  0.109845  {org.novasearch.tutorials.labs2018.Lab2_Analys...  0.140909\n",
       "1  0.109382  {org.novasearch.tutorials.labs2018.Lab2_Analys...  0.145455\n",
       "2  0.108452  {org.novasearch.tutorials.labs2018.Lab2_Analys...  0.142857\n",
       "3  0.107443  {org.novasearch.tutorials.labs2018.Lab2_Analys...  0.134783\n",
       "4  0.095072  {org.novasearch.tutorials.labs2018.Lab2_Analys...  0.120000"
      ]
     },
     "execution_count": 8,
     "metadata": {},
     "output_type": "execute_result"
    }
   ],
   "source": [
    "data_o_sorted_Map.head(5)"
   ]
  },
  {
   "cell_type": "code",
   "execution_count": null,
   "metadata": {},
   "outputs": [],
   "source": []
  }
 ],
 "metadata": {
  "kernelspec": {
   "display_name": "Python 3",
   "language": "python",
   "name": "python3"
  },
  "language_info": {
   "codemirror_mode": {
    "name": "ipython",
    "version": 3
   },
   "file_extension": ".py",
   "mimetype": "text/x-python",
   "name": "python",
   "nbconvert_exporter": "python",
   "pygments_lexer": "ipython3",
   "version": "3.6.4"
  }
 },
 "nbformat": 4,
 "nbformat_minor": 2
}
